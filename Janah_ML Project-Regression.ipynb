{
 "cells": [
  {
   "cell_type": "markdown",
   "id": "c55ea7d7",
   "metadata": {},
   "source": [
    "## PROJECT:    PREDICTING CHARGES OF HEALTH INSURANCE"
   ]
  },
  {
   "cell_type": "markdown",
   "id": "19b91a8f",
   "metadata": {},
   "source": [
    "IMPORTING LIBRARIES"
   ]
  },
  {
   "cell_type": "code",
   "execution_count": 1,
   "id": "962b2901",
   "metadata": {},
   "outputs": [],
   "source": [
    "import pandas as pd\n",
    "import matplotlib.pyplot as plt\n",
    "import seaborn as sns\n",
    "import scipy.stats as stats\n",
    "from sklearn.preprocessing import LabelEncoder\n",
    "import copy\n",
    "\n",
    "import warnings\n",
    "warnings.filterwarnings('ignore')"
   ]
  },
  {
   "cell_type": "code",
   "execution_count": 3,
   "id": "29941c8d",
   "metadata": {},
   "outputs": [
    {
     "data": {
      "text/html": [
       "<div>\n",
       "<style scoped>\n",
       "    .dataframe tbody tr th:only-of-type {\n",
       "        vertical-align: middle;\n",
       "    }\n",
       "\n",
       "    .dataframe tbody tr th {\n",
       "        vertical-align: top;\n",
       "    }\n",
       "\n",
       "    .dataframe thead th {\n",
       "        text-align: right;\n",
       "    }\n",
       "</style>\n",
       "<table border=\"1\" class=\"dataframe\">\n",
       "  <thead>\n",
       "    <tr style=\"text-align: right;\">\n",
       "      <th></th>\n",
       "      <th>age</th>\n",
       "      <th>sex</th>\n",
       "      <th>bmi</th>\n",
       "      <th>children</th>\n",
       "      <th>smoker</th>\n",
       "      <th>region</th>\n",
       "      <th>charges</th>\n",
       "    </tr>\n",
       "  </thead>\n",
       "  <tbody>\n",
       "    <tr>\n",
       "      <th>0</th>\n",
       "      <td>19</td>\n",
       "      <td>female</td>\n",
       "      <td>27.900</td>\n",
       "      <td>0</td>\n",
       "      <td>yes</td>\n",
       "      <td>southwest</td>\n",
       "      <td>16884.92400</td>\n",
       "    </tr>\n",
       "    <tr>\n",
       "      <th>1</th>\n",
       "      <td>18</td>\n",
       "      <td>male</td>\n",
       "      <td>33.770</td>\n",
       "      <td>1</td>\n",
       "      <td>no</td>\n",
       "      <td>southeast</td>\n",
       "      <td>1725.55230</td>\n",
       "    </tr>\n",
       "    <tr>\n",
       "      <th>2</th>\n",
       "      <td>28</td>\n",
       "      <td>male</td>\n",
       "      <td>33.000</td>\n",
       "      <td>3</td>\n",
       "      <td>no</td>\n",
       "      <td>southeast</td>\n",
       "      <td>4449.46200</td>\n",
       "    </tr>\n",
       "    <tr>\n",
       "      <th>3</th>\n",
       "      <td>33</td>\n",
       "      <td>male</td>\n",
       "      <td>22.705</td>\n",
       "      <td>0</td>\n",
       "      <td>no</td>\n",
       "      <td>northwest</td>\n",
       "      <td>21984.47061</td>\n",
       "    </tr>\n",
       "    <tr>\n",
       "      <th>4</th>\n",
       "      <td>32</td>\n",
       "      <td>male</td>\n",
       "      <td>28.880</td>\n",
       "      <td>0</td>\n",
       "      <td>no</td>\n",
       "      <td>northwest</td>\n",
       "      <td>3866.85520</td>\n",
       "    </tr>\n",
       "  </tbody>\n",
       "</table>\n",
       "</div>"
      ],
      "text/plain": [
       "   age     sex     bmi  children smoker     region      charges\n",
       "0   19  female  27.900         0    yes  southwest  16884.92400\n",
       "1   18    male  33.770         1     no  southeast   1725.55230\n",
       "2   28    male  33.000         3     no  southeast   4449.46200\n",
       "3   33    male  22.705         0     no  northwest  21984.47061\n",
       "4   32    male  28.880         0     no  northwest   3866.85520"
      ]
     },
     "metadata": {},
     "output_type": "display_data"
    },
    {
     "name": "stdout",
     "output_type": "stream",
     "text": [
      "\n",
      "\u001b[1mInference:\u001b[0m The Dataset consists of 7 features & 1338 observations.\n"
     ]
    }
   ],
   "source": [
    "data =pd.read_csv(r\"C:\\Users\\Rajani-janah\\Desktop\\Data Science\\Data mining\\datasets\\Health_insurance.csv\")\n",
    "display(data.head())\n",
    "original_data = data.copy(deep=True) # Copy DataFrame before....\n",
    "\n",
    "print('\\n\\033[1mInference:\\033[0m The Dataset consists of {} features & {} observations.'.format(data.shape[1], data.shape[0]))"
   ]
  },
  {
   "cell_type": "code",
   "execution_count": 4,
   "id": "1e29c0de",
   "metadata": {},
   "outputs": [
    {
     "data": {
      "text/html": [
       "<div>\n",
       "<style scoped>\n",
       "    .dataframe tbody tr th:only-of-type {\n",
       "        vertical-align: middle;\n",
       "    }\n",
       "\n",
       "    .dataframe tbody tr th {\n",
       "        vertical-align: top;\n",
       "    }\n",
       "\n",
       "    .dataframe thead th {\n",
       "        text-align: right;\n",
       "    }\n",
       "</style>\n",
       "<table border=\"1\" class=\"dataframe\">\n",
       "  <thead>\n",
       "    <tr style=\"text-align: right;\">\n",
       "      <th></th>\n",
       "      <th>age</th>\n",
       "      <th>sex</th>\n",
       "      <th>bmi</th>\n",
       "      <th>children</th>\n",
       "      <th>smoker</th>\n",
       "      <th>region</th>\n",
       "      <th>charges</th>\n",
       "    </tr>\n",
       "  </thead>\n",
       "  <tbody>\n",
       "    <tr>\n",
       "      <th>0</th>\n",
       "      <td>19</td>\n",
       "      <td>female</td>\n",
       "      <td>27.900</td>\n",
       "      <td>0</td>\n",
       "      <td>yes</td>\n",
       "      <td>southwest</td>\n",
       "      <td>16884.92400</td>\n",
       "    </tr>\n",
       "    <tr>\n",
       "      <th>1</th>\n",
       "      <td>18</td>\n",
       "      <td>male</td>\n",
       "      <td>33.770</td>\n",
       "      <td>1</td>\n",
       "      <td>no</td>\n",
       "      <td>southeast</td>\n",
       "      <td>1725.55230</td>\n",
       "    </tr>\n",
       "    <tr>\n",
       "      <th>2</th>\n",
       "      <td>28</td>\n",
       "      <td>male</td>\n",
       "      <td>33.000</td>\n",
       "      <td>3</td>\n",
       "      <td>no</td>\n",
       "      <td>southeast</td>\n",
       "      <td>4449.46200</td>\n",
       "    </tr>\n",
       "    <tr>\n",
       "      <th>3</th>\n",
       "      <td>33</td>\n",
       "      <td>male</td>\n",
       "      <td>22.705</td>\n",
       "      <td>0</td>\n",
       "      <td>no</td>\n",
       "      <td>northwest</td>\n",
       "      <td>21984.47061</td>\n",
       "    </tr>\n",
       "    <tr>\n",
       "      <th>4</th>\n",
       "      <td>32</td>\n",
       "      <td>male</td>\n",
       "      <td>28.880</td>\n",
       "      <td>0</td>\n",
       "      <td>no</td>\n",
       "      <td>northwest</td>\n",
       "      <td>3866.85520</td>\n",
       "    </tr>\n",
       "  </tbody>\n",
       "</table>\n",
       "</div>"
      ],
      "text/plain": [
       "   age     sex     bmi  children smoker     region      charges\n",
       "0   19  female  27.900         0    yes  southwest  16884.92400\n",
       "1   18    male  33.770         1     no  southeast   1725.55230\n",
       "2   28    male  33.000         3     no  southeast   4449.46200\n",
       "3   33    male  22.705         0     no  northwest  21984.47061\n",
       "4   32    male  28.880         0     no  northwest   3866.85520"
      ]
     },
     "execution_count": 4,
     "metadata": {},
     "output_type": "execute_result"
    }
   ],
   "source": [
    "# First Five rows of data\n",
    "data.head()\n"
   ]
  },
  {
   "cell_type": "code",
   "execution_count": 5,
   "id": "0fba980f",
   "metadata": {},
   "outputs": [
    {
     "data": {
      "text/plain": [
       "(1338, 7)"
      ]
     },
     "execution_count": 5,
     "metadata": {},
     "output_type": "execute_result"
    }
   ],
   "source": [
    "#Shape of the data\n",
    "data.shape"
   ]
  },
  {
   "cell_type": "code",
   "execution_count": 6,
   "id": "7631460f",
   "metadata": {},
   "outputs": [
    {
     "data": {
      "text/html": [
       "<div>\n",
       "<style scoped>\n",
       "    .dataframe tbody tr th:only-of-type {\n",
       "        vertical-align: middle;\n",
       "    }\n",
       "\n",
       "    .dataframe tbody tr th {\n",
       "        vertical-align: top;\n",
       "    }\n",
       "\n",
       "    .dataframe thead th {\n",
       "        text-align: right;\n",
       "    }\n",
       "</style>\n",
       "<table border=\"1\" class=\"dataframe\">\n",
       "  <thead>\n",
       "    <tr style=\"text-align: right;\">\n",
       "      <th>smoker</th>\n",
       "      <th>no</th>\n",
       "      <th>yes</th>\n",
       "      <th>All</th>\n",
       "    </tr>\n",
       "    <tr>\n",
       "      <th>sex</th>\n",
       "      <th></th>\n",
       "      <th></th>\n",
       "      <th></th>\n",
       "    </tr>\n",
       "  </thead>\n",
       "  <tbody>\n",
       "    <tr>\n",
       "      <th>female</th>\n",
       "      <td>547</td>\n",
       "      <td>115</td>\n",
       "      <td>662</td>\n",
       "    </tr>\n",
       "    <tr>\n",
       "      <th>male</th>\n",
       "      <td>517</td>\n",
       "      <td>159</td>\n",
       "      <td>676</td>\n",
       "    </tr>\n",
       "    <tr>\n",
       "      <th>All</th>\n",
       "      <td>1064</td>\n",
       "      <td>274</td>\n",
       "      <td>1338</td>\n",
       "    </tr>\n",
       "  </tbody>\n",
       "</table>\n",
       "</div>"
      ],
      "text/plain": [
       "smoker    no  yes   All\n",
       "sex                    \n",
       "female   547  115   662\n",
       "male     517  159   676\n",
       "All     1064  274  1338"
      ]
     },
     "execution_count": 6,
     "metadata": {},
     "output_type": "execute_result"
    }
   ],
   "source": [
    "contingency_table1 = pd.crosstab(data['sex'],data['smoker'],margins = True)\n",
    "contingency_table1"
   ]
  },
  {
   "cell_type": "code",
   "execution_count": 8,
   "id": "7df358d9",
   "metadata": {},
   "outputs": [],
   "source": [
    "from scipy.stats import chi2_contingency\n",
    "def chi_square(c1,c2):\n",
    "    chi_2, p_val, dof, exp_val = chi2_contingency(pd.crosstab(data[c1],data[c2],margins = False))# make sure margins = False\n",
    "\n",
    "    print(exp_val)\n",
    "    #print('\\nChi-square is : %f'%chi_2, '\\n\\np_value is : %f'%p_val, '\\n\\ndegree of freedom is : %i'%dof)\n",
    "    print(f'\\nChi-square is : {chi_2}', f'\\n\\np_value is : {p_val}', f'\\n\\ndegree of freedom is :{dof}')\n",
    "\n",
    "    if p_val < 0.05:# consider significan level is 5%\n",
    "        print(\"\\nThere is some correlation between the two variables at 0.05 significant level\")\n",
    "    else:\n",
    "        print(\"\\nThere is no correlation between the two variables\")"
   ]
  },
  {
   "cell_type": "code",
   "execution_count": 9,
   "id": "2b987d3f",
   "metadata": {
    "scrolled": true
   },
   "outputs": [
    {
     "name": "stdout",
     "output_type": "stream",
     "text": [
      "[[526.43348281 537.56651719]\n",
      " [135.56651719 138.43348281]]\n",
      "\n",
      "Chi-square is : 7.39291081459996 \n",
      "\n",
      "p_value is : 0.006548143503580696 \n",
      "\n",
      "degree of freedom is :1\n",
      "\n",
      "There is some correlation between the two variables at 0.05 significant level\n"
     ]
    }
   ],
   "source": [
    "chi_square(\"smoker\",'sex')"
   ]
  },
  {
   "cell_type": "code",
   "execution_count": 15,
   "id": "9a9d7e29",
   "metadata": {},
   "outputs": [
    {
     "data": {
      "text/html": [
       "<div>\n",
       "<style scoped>\n",
       "    .dataframe tbody tr th:only-of-type {\n",
       "        vertical-align: middle;\n",
       "    }\n",
       "\n",
       "    .dataframe tbody tr th {\n",
       "        vertical-align: top;\n",
       "    }\n",
       "\n",
       "    .dataframe thead th {\n",
       "        text-align: right;\n",
       "    }\n",
       "</style>\n",
       "<table border=\"1\" class=\"dataframe\">\n",
       "  <thead>\n",
       "    <tr style=\"text-align: right;\">\n",
       "      <th></th>\n",
       "      <th>age</th>\n",
       "      <th>bmi</th>\n",
       "      <th>children</th>\n",
       "      <th>charges</th>\n",
       "    </tr>\n",
       "  </thead>\n",
       "  <tbody>\n",
       "    <tr>\n",
       "      <th>age</th>\n",
       "      <td>1.000000</td>\n",
       "      <td>0.109272</td>\n",
       "      <td>0.042469</td>\n",
       "      <td>0.299008</td>\n",
       "    </tr>\n",
       "    <tr>\n",
       "      <th>bmi</th>\n",
       "      <td>0.109272</td>\n",
       "      <td>1.000000</td>\n",
       "      <td>0.012759</td>\n",
       "      <td>0.198341</td>\n",
       "    </tr>\n",
       "    <tr>\n",
       "      <th>children</th>\n",
       "      <td>0.042469</td>\n",
       "      <td>0.012759</td>\n",
       "      <td>1.000000</td>\n",
       "      <td>0.067998</td>\n",
       "    </tr>\n",
       "    <tr>\n",
       "      <th>charges</th>\n",
       "      <td>0.299008</td>\n",
       "      <td>0.198341</td>\n",
       "      <td>0.067998</td>\n",
       "      <td>1.000000</td>\n",
       "    </tr>\n",
       "  </tbody>\n",
       "</table>\n",
       "</div>"
      ],
      "text/plain": [
       "               age       bmi  children   charges\n",
       "age       1.000000  0.109272  0.042469  0.299008\n",
       "bmi       0.109272  1.000000  0.012759  0.198341\n",
       "children  0.042469  0.012759  1.000000  0.067998\n",
       "charges   0.299008  0.198341  0.067998  1.000000"
      ]
     },
     "execution_count": 15,
     "metadata": {},
     "output_type": "execute_result"
    }
   ],
   "source": [
    "data.corr()"
   ]
  },
  {
   "cell_type": "code",
   "execution_count": 16,
   "id": "2be4f9f5",
   "metadata": {},
   "outputs": [
    {
     "name": "stdout",
     "output_type": "stream",
     "text": [
      "[[160.30493274 163.69506726]\n",
      " [160.79970105 164.20029895]\n",
      " [180.09566517 183.90433483]\n",
      " [160.79970105 164.20029895]]\n",
      "\n",
      "Chi-square is : 0.43513679354327284 \n",
      "\n",
      "p_value is : 0.9328921288772233 \n",
      "\n",
      "degree of freedom is :3\n",
      "\n",
      "There is no correlation between the two variables\n"
     ]
    }
   ],
   "source": [
    "chi_square(\"region\",'sex')"
   ]
  },
  {
   "cell_type": "code",
   "execution_count": 11,
   "id": "8dab7cf2",
   "metadata": {},
   "outputs": [
    {
     "ename": "ModuleNotFoundError",
     "evalue": "No module named 'researchpy'",
     "output_type": "error",
     "traceback": [
      "\u001b[1;31m---------------------------------------------------------------------------\u001b[0m",
      "\u001b[1;31mModuleNotFoundError\u001b[0m                       Traceback (most recent call last)",
      "\u001b[1;32m<ipython-input-11-8e67ddfca262>\u001b[0m in \u001b[0;36m<module>\u001b[1;34m\u001b[0m\n\u001b[1;32m----> 1\u001b[1;33m \u001b[1;32mimport\u001b[0m \u001b[0mresearchpy\u001b[0m \u001b[1;32mas\u001b[0m \u001b[0mrp\u001b[0m\u001b[1;33m\u001b[0m\u001b[1;33m\u001b[0m\u001b[0m\n\u001b[0m\u001b[0;32m      2\u001b[0m \u001b[0mrp\u001b[0m\u001b[1;33m.\u001b[0m\u001b[0msummary_cont\u001b[0m\u001b[1;33m(\u001b[0m\u001b[0mdata\u001b[0m\u001b[1;33m[\u001b[0m\u001b[1;34m'age'\u001b[0m\u001b[1;33m]\u001b[0m\u001b[1;33m.\u001b[0m\u001b[0mgroupby\u001b[0m\u001b[1;33m(\u001b[0m\u001b[0mdata\u001b[0m\u001b[1;33m[\u001b[0m\u001b[1;34m'sex'\u001b[0m\u001b[1;33m]\u001b[0m\u001b[1;33m)\u001b[0m\u001b[1;33m)\u001b[0m\u001b[1;33m\u001b[0m\u001b[1;33m\u001b[0m\u001b[0m\n",
      "\u001b[1;31mModuleNotFoundError\u001b[0m: No module named 'researchpy'"
     ]
    }
   ],
   "source": [
    "import researchpy as rp\n",
    "rp.summary_cont(data['age'].groupby(data['sex']))"
   ]
  },
  {
   "cell_type": "code",
   "execution_count": 12,
   "id": "d64d35ea",
   "metadata": {},
   "outputs": [
    {
     "data": {
      "text/plain": [
       "ShapiroResult(statistic=0.9459049105644226, pvalue=9.685404478007983e-22)"
      ]
     },
     "execution_count": 12,
     "metadata": {},
     "output_type": "execute_result"
    }
   ],
   "source": [
    "import statsmodels.formula.api as smf\n",
    "\n",
    "model = smf.ols(\"age ~ C(sex)\", data= data).fit()\n",
    "stats.shapiro(model.resid)"
   ]
  },
  {
   "cell_type": "code",
   "execution_count": 13,
   "id": "5ed68326",
   "metadata": {},
   "outputs": [
    {
     "data": {
      "text/html": [
       "<div>\n",
       "<style scoped>\n",
       "    .dataframe tbody tr th:only-of-type {\n",
       "        vertical-align: middle;\n",
       "    }\n",
       "\n",
       "    .dataframe tbody tr th {\n",
       "        vertical-align: top;\n",
       "    }\n",
       "\n",
       "    .dataframe thead th {\n",
       "        text-align: right;\n",
       "    }\n",
       "</style>\n",
       "<table border=\"1\" class=\"dataframe\">\n",
       "  <thead>\n",
       "    <tr style=\"text-align: right;\">\n",
       "      <th></th>\n",
       "      <th>age</th>\n",
       "      <th>sex</th>\n",
       "      <th>bmi</th>\n",
       "      <th>children</th>\n",
       "      <th>smoker</th>\n",
       "      <th>region</th>\n",
       "      <th>charges</th>\n",
       "    </tr>\n",
       "  </thead>\n",
       "  <tbody>\n",
       "    <tr>\n",
       "      <th>0</th>\n",
       "      <td>19</td>\n",
       "      <td>female</td>\n",
       "      <td>27.900</td>\n",
       "      <td>0</td>\n",
       "      <td>yes</td>\n",
       "      <td>southwest</td>\n",
       "      <td>16884.92400</td>\n",
       "    </tr>\n",
       "    <tr>\n",
       "      <th>1</th>\n",
       "      <td>18</td>\n",
       "      <td>male</td>\n",
       "      <td>33.770</td>\n",
       "      <td>1</td>\n",
       "      <td>no</td>\n",
       "      <td>southeast</td>\n",
       "      <td>1725.55230</td>\n",
       "    </tr>\n",
       "    <tr>\n",
       "      <th>2</th>\n",
       "      <td>28</td>\n",
       "      <td>male</td>\n",
       "      <td>33.000</td>\n",
       "      <td>3</td>\n",
       "      <td>no</td>\n",
       "      <td>southeast</td>\n",
       "      <td>4449.46200</td>\n",
       "    </tr>\n",
       "    <tr>\n",
       "      <th>3</th>\n",
       "      <td>33</td>\n",
       "      <td>male</td>\n",
       "      <td>22.705</td>\n",
       "      <td>0</td>\n",
       "      <td>no</td>\n",
       "      <td>northwest</td>\n",
       "      <td>21984.47061</td>\n",
       "    </tr>\n",
       "    <tr>\n",
       "      <th>4</th>\n",
       "      <td>32</td>\n",
       "      <td>male</td>\n",
       "      <td>28.880</td>\n",
       "      <td>0</td>\n",
       "      <td>no</td>\n",
       "      <td>northwest</td>\n",
       "      <td>3866.85520</td>\n",
       "    </tr>\n",
       "  </tbody>\n",
       "</table>\n",
       "</div>"
      ],
      "text/plain": [
       "   age     sex     bmi  children smoker     region      charges\n",
       "0   19  female  27.900         0    yes  southwest  16884.92400\n",
       "1   18    male  33.770         1     no  southeast   1725.55230\n",
       "2   28    male  33.000         3     no  southeast   4449.46200\n",
       "3   33    male  22.705         0     no  northwest  21984.47061\n",
       "4   32    male  28.880         0     no  northwest   3866.85520"
      ]
     },
     "metadata": {},
     "output_type": "display_data"
    },
    {
     "name": "stdout",
     "output_type": "stream",
     "text": [
      "\n",
      "\u001b[1mInference:\u001b[0m The Dataset consists of 7 features & 1338 observations.\n"
     ]
    }
   ],
   "source": [
    "#Importing the dataset\n",
    "\n",
    "data =pd.read_csv(r\"C:\\Users\\Rajani-janah\\Desktop\\Data Science\\Data mining\\datasets\\Health_insurance.csv\")\n",
    "display(data.head())\n",
    "original_data = data.copy(deep=True) # Copy DataFrame before....\n",
    "\n",
    "print('\\n\\033[1mInference:\\033[0m The Dataset consists of {} features & {} observations.'.format(data.shape[1], data.shape[0]))"
   ]
  },
  {
   "cell_type": "code",
   "execution_count": 14,
   "id": "f9093a99",
   "metadata": {},
   "outputs": [],
   "source": [
    "#X=data.select_dtypes(exclude='object')\n",
    "X = data[['age', 'bmi', 'children']]\n",
    "X.head()\n",
    "y = data['charges']#y needs to be a Series or 1D array"
   ]
  },
  {
   "cell_type": "code",
   "execution_count": 15,
   "id": "064ba77a",
   "metadata": {},
   "outputs": [
    {
     "data": {
      "text/plain": [
       "0    16884.92400\n",
       "1     1725.55230\n",
       "2     4449.46200\n",
       "3    21984.47061\n",
       "4     3866.85520\n",
       "Name: charges, dtype: float64"
      ]
     },
     "execution_count": 15,
     "metadata": {},
     "output_type": "execute_result"
    }
   ],
   "source": [
    "y.head()"
   ]
  },
  {
   "cell_type": "code",
   "execution_count": 17,
   "id": "42197394",
   "metadata": {
    "scrolled": true
   },
   "outputs": [
    {
     "name": "stdout",
     "output_type": "stream",
     "text": [
      "                            OLS Regression Results                            \n",
      "==============================================================================\n",
      "Dep. Variable:                charges   R-squared:                       0.120\n",
      "Model:                            OLS   Adj. R-squared:                  0.118\n",
      "Method:                 Least Squares   F-statistic:                     60.69\n",
      "Date:                Thu, 13 Jan 2022   Prob (F-statistic):           8.80e-37\n",
      "Time:                        07:41:57   Log-Likelihood:                -14392.\n",
      "No. Observations:                1338   AIC:                         2.879e+04\n",
      "Df Residuals:                    1334   BIC:                         2.881e+04\n",
      "Df Model:                           3                                         \n",
      "Covariance Type:            nonrobust                                         \n",
      "==============================================================================\n",
      "                 coef    std err          t      P>|t|      [0.025      0.975]\n",
      "------------------------------------------------------------------------------\n",
      "const      -6916.2433   1757.480     -3.935      0.000   -1.04e+04   -3468.518\n",
      "age          239.9945     22.289     10.767      0.000     196.269     283.720\n",
      "bmi          332.0834     51.310      6.472      0.000     231.425     432.741\n",
      "children     542.8647    258.241      2.102      0.036      36.261    1049.468\n",
      "==============================================================================\n",
      "Omnibus:                      325.395   Durbin-Watson:                   2.012\n",
      "Prob(Omnibus):                  0.000   Jarque-Bera (JB):              603.372\n",
      "Skew:                           1.520   Prob(JB):                    9.54e-132\n",
      "Kurtosis:                       4.255   Cond. No.                         290.\n",
      "==============================================================================\n",
      "\n",
      "Notes:\n",
      "[1] Standard Errors assume that the covariance matrix of the errors is correctly specified.\n"
     ]
    }
   ],
   "source": [
    "import statsmodels.api as sm\n",
    "X2 = sm.add_constant(X) \n",
    "ols = sm.OLS(y,X2)\n",
    "lr = ols.fit()\n",
    "print(lr.summary())"
   ]
  },
  {
   "cell_type": "code",
   "execution_count": 7,
   "id": "09385e55",
   "metadata": {},
   "outputs": [
    {
     "name": "stdout",
     "output_type": "stream",
     "text": [
      "<class 'pandas.core.frame.DataFrame'>\n",
      "RangeIndex: 1338 entries, 0 to 1337\n",
      "Data columns (total 7 columns):\n",
      " #   Column    Non-Null Count  Dtype  \n",
      "---  ------    --------------  -----  \n",
      " 0   age       1338 non-null   int64  \n",
      " 1   sex       1338 non-null   object \n",
      " 2   bmi       1338 non-null   float64\n",
      " 3   children  1338 non-null   int64  \n",
      " 4   smoker    1338 non-null   object \n",
      " 5   region    1338 non-null   object \n",
      " 6   charges   1338 non-null   float64\n",
      "dtypes: float64(2), int64(2), object(3)\n",
      "memory usage: 73.3+ KB\n"
     ]
    }
   ],
   "source": [
    " #Data type of each attribute\n",
    "\n",
    "data.info()"
   ]
  },
  {
   "cell_type": "code",
   "execution_count": 6,
   "id": "10a103db",
   "metadata": {},
   "outputs": [
    {
     "data": {
      "text/plain": [
       "age         0\n",
       "sex         0\n",
       "bmi         0\n",
       "children    0\n",
       "smoker      0\n",
       "region      0\n",
       "charges     0\n",
       "dtype: int64"
      ]
     },
     "execution_count": 6,
     "metadata": {},
     "output_type": "execute_result"
    }
   ],
   "source": [
    "#Checking the presence of missing values\n",
    "\n",
    "data.isnull().sum()"
   ]
  },
  {
   "cell_type": "code",
   "execution_count": 16,
   "id": "d1f59097",
   "metadata": {},
   "outputs": [
    {
     "data": {
      "text/html": [
       "<div>\n",
       "<style scoped>\n",
       "    .dataframe tbody tr th:only-of-type {\n",
       "        vertical-align: middle;\n",
       "    }\n",
       "\n",
       "    .dataframe tbody tr th {\n",
       "        vertical-align: top;\n",
       "    }\n",
       "\n",
       "    .dataframe thead th {\n",
       "        text-align: right;\n",
       "    }\n",
       "</style>\n",
       "<table border=\"1\" class=\"dataframe\">\n",
       "  <thead>\n",
       "    <tr style=\"text-align: right;\">\n",
       "      <th></th>\n",
       "      <th>age</th>\n",
       "      <th>bmi</th>\n",
       "      <th>children</th>\n",
       "      <th>charges</th>\n",
       "    </tr>\n",
       "  </thead>\n",
       "  <tbody>\n",
       "    <tr>\n",
       "      <th>count</th>\n",
       "      <td>1338.000000</td>\n",
       "      <td>1338.000000</td>\n",
       "      <td>1338.000000</td>\n",
       "      <td>1338.000000</td>\n",
       "    </tr>\n",
       "    <tr>\n",
       "      <th>mean</th>\n",
       "      <td>39.207025</td>\n",
       "      <td>30.663397</td>\n",
       "      <td>1.094918</td>\n",
       "      <td>13270.422265</td>\n",
       "    </tr>\n",
       "    <tr>\n",
       "      <th>std</th>\n",
       "      <td>14.049960</td>\n",
       "      <td>6.098187</td>\n",
       "      <td>1.205493</td>\n",
       "      <td>12110.011237</td>\n",
       "    </tr>\n",
       "    <tr>\n",
       "      <th>min</th>\n",
       "      <td>18.000000</td>\n",
       "      <td>15.960000</td>\n",
       "      <td>0.000000</td>\n",
       "      <td>1121.873900</td>\n",
       "    </tr>\n",
       "    <tr>\n",
       "      <th>25%</th>\n",
       "      <td>27.000000</td>\n",
       "      <td>26.296250</td>\n",
       "      <td>0.000000</td>\n",
       "      <td>4740.287150</td>\n",
       "    </tr>\n",
       "    <tr>\n",
       "      <th>50%</th>\n",
       "      <td>39.000000</td>\n",
       "      <td>30.400000</td>\n",
       "      <td>1.000000</td>\n",
       "      <td>9382.033000</td>\n",
       "    </tr>\n",
       "    <tr>\n",
       "      <th>75%</th>\n",
       "      <td>51.000000</td>\n",
       "      <td>34.693750</td>\n",
       "      <td>2.000000</td>\n",
       "      <td>16639.912515</td>\n",
       "    </tr>\n",
       "    <tr>\n",
       "      <th>max</th>\n",
       "      <td>64.000000</td>\n",
       "      <td>53.130000</td>\n",
       "      <td>5.000000</td>\n",
       "      <td>63770.428010</td>\n",
       "    </tr>\n",
       "  </tbody>\n",
       "</table>\n",
       "</div>"
      ],
      "text/plain": [
       "               age          bmi     children       charges\n",
       "count  1338.000000  1338.000000  1338.000000   1338.000000\n",
       "mean     39.207025    30.663397     1.094918  13270.422265\n",
       "std      14.049960     6.098187     1.205493  12110.011237\n",
       "min      18.000000    15.960000     0.000000   1121.873900\n",
       "25%      27.000000    26.296250     0.000000   4740.287150\n",
       "50%      39.000000    30.400000     1.000000   9382.033000\n",
       "75%      51.000000    34.693750     2.000000  16639.912515\n",
       "max      64.000000    53.130000     5.000000  63770.428010"
      ]
     },
     "execution_count": 16,
     "metadata": {},
     "output_type": "execute_result"
    }
   ],
   "source": [
    "#Five point summary of numerical attributes\n",
    "\n",
    "data.describe()"
   ]
  },
  {
   "cell_type": "code",
   "execution_count": 17,
   "id": "3a996a34",
   "metadata": {},
   "outputs": [
    {
     "data": {
      "text/plain": [
       "Index(['age', 'sex', 'bmi', 'children', 'smoker', 'region', 'charges'], dtype='object')"
      ]
     },
     "execution_count": 17,
     "metadata": {},
     "output_type": "execute_result"
    }
   ],
   "source": [
    "data.columns"
   ]
  },
  {
   "cell_type": "code",
   "execution_count": 4,
   "id": "d8265925",
   "metadata": {},
   "outputs": [
    {
     "data": {
      "text/plain": [
       "{'sex': ['female', 'male'],\n",
       " 'smoker': ['yes', 'no'],\n",
       " 'region': ['southwest', 'southeast', 'northwest', 'northeast']}"
      ]
     },
     "execution_count": 4,
     "metadata": {},
     "output_type": "execute_result"
    }
   ],
   "source": [
    "#listing unique variables of object columns\n",
    "{col:list(data[col].unique()) for col in data.select_dtypes('object')}"
   ]
  },
  {
   "cell_type": "code",
   "execution_count": 11,
   "id": "0a13725d",
   "metadata": {},
   "outputs": [],
   "source": [
    "region_serie=data.groupby('region').size()\n",
    "smoker_serie=data.groupby('smoker').size()\n",
    "sex_serie=data.groupby('sex').size()\n",
    "\n",
    "series={\n",
    "    \n",
    "    'Sex':sex_serie,\n",
    "    'Region':region_serie,\n",
    "    'Smoker':smoker_serie\n",
    "    \n",
    "}\n",
    "\n",
    "\n",
    "def pie_plot(serie,title):\n",
    "    \n",
    "    \n",
    "    serie.plot(kind='pie',title=title, figsize=[20,8],colors=['#77dd77','#fdfd96','#84b6f4','#fdcae1'],\n",
    "          autopct=lambda p: '{:.2f}%({:.0f})'.format(p,(p/100)*serie.sum()))\n",
    "    plt.ylabel(None)"
   ]
  },
  {
   "cell_type": "code",
   "execution_count": 12,
   "id": "4685c2af",
   "metadata": {},
   "outputs": [
    {
     "data": {
      "image/png": "[encoded data removed]",
      "text/plain": [
       "<Figure size 1440x576 with 1 Axes>"
      ]
     },
     "metadata": {},
     "output_type": "display_data"
    },
    {
     "data": {
      "image/png": "[encoded data removed]",
      "text/plain": [
       "<Figure size 1440x576 with 1 Axes>"
      ]
     },
     "metadata": {},
     "output_type": "display_data"
    },
    {
     "data": {
      "image/png": "[encoded data removed]",
      "text/plain": [
       "<Figure size 1440x576 with 1 Axes>"
      ]
     },
     "metadata": {},
     "output_type": "display_data"
    }
   ],
   "source": [
    "for i,j in series.items():\n",
    "    \n",
    "    plt.subplots(1,1)\n",
    "    pie_plot(j,i)"
   ]
  },
  {
   "cell_type": "code",
   "execution_count": 12,
   "id": "6658158f",
   "metadata": {
    "scrolled": true
   },
   "outputs": [
    {
     "data": {
      "image/png": "[encoded data removed]",
      "text/plain": [
       "<Figure size 720x360 with 1 Axes>"
      ]
     },
     "metadata": {
      "needs_background": "light"
     },
     "output_type": "display_data"
    }
   ],
   "source": [
    "#bmi' distribution\n",
    "\n",
    "fg,ax = plt.subplots(figsize=(10,5))\n",
    "n, bins, patches = ax.hist(data.bmi,edgecolor='k',label='bmi distribution')\n",
    "ax.set_xticks(ticks=range(15,75,5))\n",
    "for idx, value in enumerate(n):\n",
    "    ax.text(bins[idx]+1.5,n[idx]+2,round(value))\n",
    "    ax.legend()\n",
    "    fg.show"
   ]
  },
  {
   "cell_type": "code",
   "execution_count": null,
   "id": "91a786b3",
   "metadata": {},
   "outputs": [],
   "source": [
    "#'bmi' is normally distributed"
   ]
  },
  {
   "cell_type": "code",
   "execution_count": 13,
   "id": "0f8d407e",
   "metadata": {},
   "outputs": [
    {
     "data": {
      "image/png": "[encoded data removed]",
      "text/plain": [
       "<Figure size 720x360 with 1 Axes>"
      ]
     },
     "metadata": {
      "needs_background": "light"
     },
     "output_type": "display_data"
    }
   ],
   "source": [
    "#age' distribution\n",
    "\n",
    "fg,ax = plt.subplots(figsize=(10,5))\n",
    "n, bins, patches = ax.hist(data.age,edgecolor='k',label='age distribution')\n",
    "ax.set_xticks(ticks=range(15,75,5))\n",
    "for idx, value in enumerate(n):\n",
    "  ax.text(bins[idx]+1.5,n[idx]+2,round(value))\n",
    "ax.legend()\n",
    "fg.show()"
   ]
  },
  {
   "cell_type": "code",
   "execution_count": null,
   "id": "e0fb7c46",
   "metadata": {},
   "outputs": [],
   "source": [
    "#age' is uniformally distributed"
   ]
  },
  {
   "cell_type": "code",
   "execution_count": 14,
   "id": "41673ee3",
   "metadata": {},
   "outputs": [
    {
     "data": {
      "image/png": "[encoded data removed]",
      "text/plain": [
       "<Figure size 720x360 with 1 Axes>"
      ]
     },
     "metadata": {
      "needs_background": "light"
     },
     "output_type": "display_data"
    }
   ],
   "source": [
    "#charges' distribution\n",
    "\n",
    "fg,ax = plt.subplots(figsize=(10,5))\n",
    "n, bins, patches = ax.hist(data.charges,edgecolor='k',label='charges distribution')\n",
    "ax.set_xticks(ticks=range(10000,75000,5000))\n",
    "for idx, value in enumerate(n):\n",
    "    ax.text(bins[idx]+1.5,n[idx]+2,round(value))\n",
    "    ax.legend()\n",
    "    fg.show"
   ]
  },
  {
   "cell_type": "code",
   "execution_count": null,
   "id": "2de3449f",
   "metadata": {},
   "outputs": [],
   "source": [
    "#charges' are highly skewed"
   ]
  },
  {
   "cell_type": "code",
   "execution_count": 15,
   "id": "49a97059",
   "metadata": {},
   "outputs": [
    {
     "data": {
      "text/plain": [
       "<function matplotlib.pyplot.show(close=None, block=None)>"
      ]
     },
     "execution_count": 15,
     "metadata": {},
     "output_type": "execute_result"
    },
    {
     "data": {
      "image/png": "[encoded data removed]",
      "text/plain": [
       "<Figure size 1440x1080 with 3 Axes>"
      ]
     },
     "metadata": {
      "needs_background": "light"
     },
     "output_type": "display_data"
    }
   ],
   "source": [
    "#Checking the presence of outliers in 'bmi','age' and 'charges' columns\n",
    "\n",
    "plt.figure(figsize= (20,15))\n",
    "plt.subplot(3,1,1)\n",
    "sns.boxplot(x= data.bmi, color='lightblue')\n",
    "\n",
    "plt.subplot(3,1,2)\n",
    "sns.boxplot(x= data.age, color='lightblue')\n",
    "\n",
    "plt.subplot(3,1,3)\n",
    "sns.boxplot(x= data.charges, color='lightblue')\n",
    "\n",
    "plt.show"
   ]
  },
  {
   "cell_type": "code",
   "execution_count": null,
   "id": "69ef33c0",
   "metadata": {},
   "outputs": [],
   "source": [
    "#'bmi' has very few outliers (extreme values)\n",
    "#age' has no outliers\n",
    "#charges' are highly skewed so lot of outliers present"
   ]
  },
  {
   "cell_type": "code",
   "execution_count": 18,
   "id": "164fbbba",
   "metadata": {},
   "outputs": [
    {
     "data": {
      "text/plain": [
       "<function matplotlib.pyplot.show(close=None, block=None)>"
      ]
     },
     "execution_count": 18,
     "metadata": {},
     "output_type": "execute_result"
    },
    {
     "data": {
      "image/png": "[encoded data removed]",
      "text/plain": [
       "<Figure size 1440x1800 with 4 Axes>"
      ]
     },
     "metadata": {
      "needs_background": "light"
     },
     "output_type": "display_data"
    }
   ],
   "source": [
    "#Distribution of categorical columns (include children)\n",
    "plt.figure(figsize=(20,25))\n",
    "\n",
    "\n",
    "x=data.smoker.value_counts().index  # values for x-axis\n",
    "y=[data['smoker'].value_counts()[i] for i in x] #count of each class on y-axis\n",
    "\n",
    "plt.subplot(4,2,1)\n",
    "plt.bar(x,y,align='center',color = 'lightblue',edgecolor='black',alpha = 0.7)  # bar chart plotting\n",
    "plt.xlabel('smoker')\n",
    "plt.ylabel('Count')\n",
    "plt.title('Smoker distribution')\n",
    "\n",
    "x1 = data.sex.value_counts().index   #values for x-axis\n",
    "y1 = [data['sex'].value_counts()[j] for j in x1]  # count of each class on y-axis\n",
    "\n",
    "\n",
    "plt.subplot(4,2,2)\n",
    "plt.bar(x1,y1, align='center',color = 'lightblue',edgecolor = 'black',alpha = 0.7)  # bar chart\n",
    "plt.xlabel('Gender')\n",
    "plt.ylabel('Count')\n",
    "plt.title('Gender distribution')\n",
    "\n",
    "x2 = data.region.value_counts().index # values for x-axis\n",
    "y2 = [data['region'].value_counts()[k] for k in x2]  # count of each class on y-axis\n",
    "\n",
    "plt.subplot(4,2,3)\n",
    "plt.bar(x2,y2,align='center',color = 'lightblue',edgecolor = 'black',alpha = 0.7) # bar chart\n",
    "plt.xlabel('Region')\n",
    "plt.ylabel('Count')\n",
    "plt.title('Regions distrinution')\n",
    "\n",
    "x3 = data.children.value_counts().index\n",
    "y3 = [data['children'].value_counts()[l] for l in x3]\n",
    "\n",
    "plt.subplot(4,2,4)\n",
    "plt.bar(x3,y3, align='center',color= 'lightblue',edgecolor = 'black',alpha = 0.7)\n",
    "plt.xlabel('No of children')\n",
    "plt.ylabel('Count')\n",
    "plt.title('Childrens distribution')\n",
    "\n",
    "plt.show"
   ]
  },
  {
   "cell_type": "markdown",
   "id": "f6f676c3",
   "metadata": {},
   "source": [
    "Bivariate analysis:charges of smoker and non smoker"
   ]
  },
  {
   "cell_type": "code",
   "execution_count": 17,
   "id": "8687b6f2",
   "metadata": {},
   "outputs": [
    {
     "data": {
      "image/png": "[encoded data removed]",
      "text/plain": [
       "<Figure size 576x432 with 1 Axes>"
      ]
     },
     "metadata": {
      "needs_background": "light"
     },
     "output_type": "display_data"
    }
   ],
   "source": [
    "# scatter plot\n",
    "plt.figure(figsize=(8,6))\n",
    "sns.scatterplot(data.age, data.charges,hue=data.smoker,palette= ['red','green'],alpha=0.6)\n",
    "plt.show()"
   ]
  },
  {
   "cell_type": "markdown",
   "id": "52d8129d",
   "metadata": {},
   "source": [
    "Smokers dependency on charges differs from non-smoker.\n",
    "Smokers claim significantly more money as compared to non-smoker."
   ]
  },
  {
   "cell_type": "code",
   "execution_count": 18,
   "id": "c6823ab7",
   "metadata": {
    "scrolled": true
   },
   "outputs": [
    {
     "data": {
      "image/png": "[encoded data removed]",
      "text/plain": [
       "<Figure size 576x432 with 1 Axes>"
      ]
     },
     "metadata": {
      "needs_background": "light"
     },
     "output_type": "display_data"
    }
   ],
   "source": [
    " #bmi' of males and females\n",
    "\n",
    "plt.figure(figsize=(8,6))\n",
    "sns.scatterplot(data.age, data.charges,hue=data.sex,palette= ['pink','lightblue'],alpha=0.6)\n",
    "plt.show()"
   ]
  },
  {
   "cell_type": "markdown",
   "id": "3dc15a72",
   "metadata": {},
   "source": [
    "No relation appeared between gender and charges.\n",
    "Therefore, no effect of gender on 'bmi'."
   ]
  },
  {
   "cell_type": "code",
   "execution_count": 19,
   "id": "34dad47a",
   "metadata": {},
   "outputs": [
    {
     "data": {
      "text/plain": [
       "no     1064\n",
       "yes     274\n",
       "Name: smoker, dtype: int64"
      ]
     },
     "execution_count": 19,
     "metadata": {},
     "output_type": "execute_result"
    }
   ],
   "source": [
    "data.smoker.value_counts()"
   ]
  },
  {
   "cell_type": "code",
   "execution_count": 33,
   "id": "94d60f64",
   "metadata": {},
   "outputs": [
    {
     "data": {
      "image/png": "[encoded data removed]",
      "text/plain": [
       "<Figure size 432x288 with 1 Axes>"
      ]
     },
     "metadata": {
      "needs_background": "light"
     },
     "output_type": "display_data"
    }
   ],
   "source": [
    "# Check the charges of smokers and non-smokers across different ages\n",
    "sns.scatterplot(x = 'age', y = 'charges', hue = 'smoker', data = data);"
   ]
  },
  {
   "cell_type": "markdown",
   "id": "9d2869c5",
   "metadata": {},
   "source": [
    "#By looking into above graph, we can say \"charges of smokers and non-smokers are different\". But is the difference statistically significant?"
   ]
  },
  {
   "cell_type": "markdown",
   "id": "777bd803",
   "metadata": {},
   "source": [
    "Steps:\n",
    "    1.State the H0 and Ha\n",
    "    2. Decide the significance level: alpha = 0.05\n",
    "    3. Identify the test-statistic: 2 sample t - test\n",
    "    4. Calculate P_value using test-statistic/t-score\n",
    "    "
   ]
  },
  {
   "cell_type": "code",
   "execution_count": 20,
   "id": "f8aaac3c",
   "metadata": {},
   "outputs": [],
   "source": [
    "from scipy.stats import ttest_ind\n",
    "from statsmodels.stats.proportion import proportions_ztest\n",
    "from statsmodels.formula.api import ols\n",
    "\n",
    "import statsmodels.api as sm"
   ]
  },
  {
   "cell_type": "markdown",
   "id": "c6ce41ca",
   "metadata": {},
   "source": [
    " Is the distribution of bmi across women with no children, one child and two children, the same?"
   ]
  },
  {
   "cell_type": "code",
   "execution_count": 21,
   "id": "05956934",
   "metadata": {},
   "outputs": [],
   "source": [
    "# Check the bmi of women with no children, one child and two children\n",
    "\n",
    "zero_child = data[data['children'] == 0]\n",
    "women_zero_child_bmi = zero_child[zero_child['sex'] == 'female'].bmi\n",
    "\n",
    "one_child = data[data['children'] == 1]\n",
    "women_one_child_bmi = one_child[one_child['sex'] == 'female'].bmi\n",
    "\n",
    "two_child = data[data['children'] == 2]\n",
    "women_two_child_bmi = two_child[two_child['sex'] == 'female'].bmi\n",
    "\n",
    "children_bmi_data = pd.DataFrame()\n",
    "\n",
    "data1            = pd.DataFrame({'children': 'zero', 'bmi':women_zero_child_bmi})\n",
    "data2          = pd.DataFrame({'children': 'one', 'bmi':women_one_child_bmi})\n",
    "data3          = pd.DataFrame({'children': 'two', 'bmi':women_two_child_bmi})\n",
    "\n",
    "children_bmi_data = children_bmi_data.append(data1) \n",
    "children_bmi_data = children_bmi_data.append(data2) \n",
    "children_bmi_data = children_bmi_data.append(data3)"
   ]
  },
  {
   "cell_type": "code",
   "execution_count": 23,
   "id": "400098ce",
   "metadata": {},
   "outputs": [
    {
     "data": {
      "image/png": "[encoded data removed]",
      "text/plain": [
       "<Figure size 432x288 with 1 Axes>"
      ]
     },
     "metadata": {
      "needs_background": "light"
     },
     "output_type": "display_data"
    }
   ],
   "source": [
    "sns.boxplot(x = \"children\", y = \"bmi\", data = children_bmi_data);"
   ]
  },
  {
   "cell_type": "code",
   "execution_count": 24,
   "id": "d5d888df",
   "metadata": {
    "scrolled": true
   },
   "outputs": [
    {
     "name": "stdout",
     "output_type": "stream",
     "text": [
      "                sum_sq     df         F    PR(>F)\n",
      "children     24.590123    2.0  0.334472  0.715858\n",
      "Residual  20695.661583  563.0       NaN       NaN\n"
     ]
    }
   ],
   "source": [
    "#. Calculate P_value using ANOVA table\n",
    "mod = ols('bmi ~ children', data = children_bmi_data).fit()\n",
    "aov_table = sm.stats.anova_lm(mod, typ=2)\n",
    "print(aov_table)\n",
    "\n",
    "p_value = aov_table['PR(>F)'][0]"
   ]
  },
  {
   "cell_type": "code",
   "execution_count": 25,
   "id": "d06dcdf4",
   "metadata": {},
   "outputs": [
    {
     "name": "stdout",
     "output_type": "stream",
     "text": [
      "reject null? : False\n"
     ]
    }
   ],
   "source": [
    "#Decide to Reject or Accept Null Hypothesis\n",
    "reject_null = False\n",
    "if p_value < 0.05:\n",
    "    reject_null = True \n",
    "else: \n",
    "    reject_null = False\n",
    "    \n",
    "print(\"reject null? : \" + str(reject_null))"
   ]
  },
  {
   "cell_type": "markdown",
   "id": "33b7880f",
   "metadata": {},
   "source": [
    "Hence we fail to reject Null Hypothesis (we have enough (95% and 99%) evidence to prove \n",
    "                                         that women with no children, one child and two children has no effect on bmi"
   ]
  },
  {
   "cell_type": "markdown",
   "id": "8df583ad",
   "metadata": {},
   "source": [
    "Feature Engineering"
   ]
  },
  {
   "cell_type": "code",
   "execution_count": 13,
   "id": "8cf63441",
   "metadata": {},
   "outputs": [],
   "source": [
    "from sklearn.preprocessing import LabelEncoder\n",
    "\n",
    "for obj_col in data.select_dtypes('object'):\n",
    "  LE = LabelEncoder()\n",
    "  data[obj_col] = LE.fit_transform(data[obj_col]) #Converting categorical data to numerical"
   ]
  },
  {
   "cell_type": "code",
   "execution_count": 14,
   "id": "413e6fa1",
   "metadata": {},
   "outputs": [],
   "source": [
    "from sklearn.preprocessing import StandardScaler\n",
    "\n",
    "for num_col in data[['age','bmi']]:\n",
    "  SS = StandardScaler()\n",
    "  data[num_col] = SS.fit_transform(data[[num_col]]) #Scaling numerical data"
   ]
  },
  {
   "cell_type": "code",
   "execution_count": 15,
   "id": "7fb8e6e6",
   "metadata": {
    "scrolled": false
   },
   "outputs": [
    {
     "data": {
      "image/png": "[encoded data removed]",
      "text/plain": [
       "<Figure size 432x288 with 2 Axes>"
      ]
     },
     "metadata": {
      "needs_background": "light"
     },
     "output_type": "display_data"
    }
   ],
   "source": [
    "sns.heatmap(data.corr(),annot=True);"
   ]
  },
  {
   "cell_type": "code",
   "execution_count": 16,
   "id": "7bc8720c",
   "metadata": {},
   "outputs": [
    {
     "data": {
      "text/plain": [
       "((1070, 3), (268, 3), (1070,), (268,))"
      ]
     },
     "execution_count": 16,
     "metadata": {},
     "output_type": "execute_result"
    }
   ],
   "source": [
    "from sklearn.model_selection import train_test_split\n",
    "\n",
    "X = data[['age','bmi','smoker']]\n",
    "Y = data['charges']\n",
    "\n",
    "X_train, X_test, Y_train, Y_test = train_test_split(X,Y,test_size=0.2,random_state=12)\n",
    "\n",
    "X_train.shape, X_test.shape, Y_train.shape, Y_test.shape"
   ]
  },
  {
   "cell_type": "code",
   "execution_count": 17,
   "id": "4587c9f7",
   "metadata": {},
   "outputs": [],
   "source": [
    "from sklearn.linear_model import LinearRegression\n",
    "\n",
    "LR = LinearRegression()\n",
    "\n",
    "LR.fit(X_train, Y_train)\n",
    "\n",
    "Y_Pred = LR.predict(X_test)"
   ]
  },
  {
   "cell_type": "code",
   "execution_count": 18,
   "id": "04d35a57",
   "metadata": {},
   "outputs": [
    {
     "data": {
      "text/plain": [
       "8350.76405105929"
      ]
     },
     "execution_count": 18,
     "metadata": {},
     "output_type": "execute_result"
    }
   ],
   "source": [
    "LR.intercept_"
   ]
  },
  {
   "cell_type": "code",
   "execution_count": 19,
   "id": "cbdf6b4d",
   "metadata": {},
   "outputs": [
    {
     "data": {
      "text/plain": [
       "array([ 3717.14494198,  2030.9733929 , 23865.19864305])"
      ]
     },
     "execution_count": 19,
     "metadata": {},
     "output_type": "execute_result"
    }
   ],
   "source": [
    "LR.coef_"
   ]
  },
  {
   "cell_type": "code",
   "execution_count": 20,
   "id": "8ba10e6e",
   "metadata": {},
   "outputs": [
    {
     "data": {
      "text/html": [
       "<div>\n",
       "<style scoped>\n",
       "    .dataframe tbody tr th:only-of-type {\n",
       "        vertical-align: middle;\n",
       "    }\n",
       "\n",
       "    .dataframe tbody tr th {\n",
       "        vertical-align: top;\n",
       "    }\n",
       "\n",
       "    .dataframe thead th {\n",
       "        text-align: right;\n",
       "    }\n",
       "</style>\n",
       "<table border=\"1\" class=\"dataframe\">\n",
       "  <thead>\n",
       "    <tr style=\"text-align: right;\">\n",
       "      <th></th>\n",
       "      <th>Actual</th>\n",
       "      <th>Predicted</th>\n",
       "    </tr>\n",
       "  </thead>\n",
       "  <tbody>\n",
       "    <tr>\n",
       "      <th>936</th>\n",
       "      <td>32108.66282</td>\n",
       "      <td>9309.983403</td>\n",
       "    </tr>\n",
       "    <tr>\n",
       "      <th>728</th>\n",
       "      <td>2217.60120</td>\n",
       "      <td>5941.967036</td>\n",
       "    </tr>\n",
       "    <tr>\n",
       "      <th>1307</th>\n",
       "      <td>21472.47880</td>\n",
       "      <td>29461.130808</td>\n",
       "    </tr>\n",
       "    <tr>\n",
       "      <th>924</th>\n",
       "      <td>6250.43500</td>\n",
       "      <td>6868.052476</td>\n",
       "    </tr>\n",
       "    <tr>\n",
       "      <th>137</th>\n",
       "      <td>2045.68525</td>\n",
       "      <td>1968.095149</td>\n",
       "    </tr>\n",
       "  </tbody>\n",
       "</table>\n",
       "</div>"
      ],
      "text/plain": [
       "           Actual     Predicted\n",
       "936   32108.66282   9309.983403\n",
       "728    2217.60120   5941.967036\n",
       "1307  21472.47880  29461.130808\n",
       "924    6250.43500   6868.052476\n",
       "137    2045.68525   1968.095149"
      ]
     },
     "execution_count": 20,
     "metadata": {},
     "output_type": "execute_result"
    }
   ],
   "source": [
    "pd.DataFrame({'Actual': Y_test,'Predicted' : Y_Pred}).head()"
   ]
  },
  {
   "cell_type": "code",
   "execution_count": 55,
   "id": "84eb1356",
   "metadata": {},
   "outputs": [
    {
     "ename": "NameError",
     "evalue": "name 'Y_test' is not defined",
     "output_type": "error",
     "traceback": [
      "\u001b[1;31m---------------------------------------------------------------------------\u001b[0m",
      "\u001b[1;31mNameError\u001b[0m                                 Traceback (most recent call last)",
      "\u001b[1;32m<ipython-input-55-d6a33d071a29>\u001b[0m in \u001b[0;36m<module>\u001b[1;34m\u001b[0m\n\u001b[0;32m      2\u001b[0m \u001b[1;32mimport\u001b[0m \u001b[0mnumpy\u001b[0m \u001b[1;32mas\u001b[0m \u001b[0mnp\u001b[0m\u001b[1;33m\u001b[0m\u001b[1;33m\u001b[0m\u001b[0m\n\u001b[0;32m      3\u001b[0m \u001b[1;33m\u001b[0m\u001b[0m\n\u001b[1;32m----> 4\u001b[1;33m \u001b[0mprint\u001b[0m\u001b[1;33m(\u001b[0m\u001b[1;34m'Mean Absolute Error:'\u001b[0m\u001b[1;33m,\u001b[0m \u001b[0mmetrics\u001b[0m\u001b[1;33m.\u001b[0m\u001b[0mmean_absolute_error\u001b[0m\u001b[1;33m(\u001b[0m\u001b[0mY_test\u001b[0m\u001b[1;33m,\u001b[0m \u001b[0mY_Pred\u001b[0m\u001b[1;33m)\u001b[0m\u001b[1;33m)\u001b[0m\u001b[1;33m\u001b[0m\u001b[1;33m\u001b[0m\u001b[0m\n\u001b[0m\u001b[0;32m      5\u001b[0m \u001b[0mprint\u001b[0m\u001b[1;33m(\u001b[0m\u001b[1;34m'Mean Squared Error:'\u001b[0m\u001b[1;33m,\u001b[0m \u001b[0mmetrics\u001b[0m\u001b[1;33m.\u001b[0m\u001b[0mmean_squared_error\u001b[0m\u001b[1;33m(\u001b[0m\u001b[0mY_test\u001b[0m\u001b[1;33m,\u001b[0m \u001b[0mY_Pred\u001b[0m\u001b[1;33m)\u001b[0m\u001b[1;33m)\u001b[0m\u001b[1;33m\u001b[0m\u001b[1;33m\u001b[0m\u001b[0m\n\u001b[0;32m      6\u001b[0m \u001b[0mprint\u001b[0m\u001b[1;33m(\u001b[0m\u001b[1;34m'Root Mean Squared Error:'\u001b[0m\u001b[1;33m,\u001b[0m \u001b[0mnp\u001b[0m\u001b[1;33m.\u001b[0m\u001b[0msqrt\u001b[0m\u001b[1;33m(\u001b[0m\u001b[0mmetrics\u001b[0m\u001b[1;33m.\u001b[0m\u001b[0mmean_squared_error\u001b[0m\u001b[1;33m(\u001b[0m\u001b[0mY_test\u001b[0m\u001b[1;33m,\u001b[0m \u001b[0mY_Pred\u001b[0m\u001b[1;33m)\u001b[0m\u001b[1;33m)\u001b[0m\u001b[1;33m)\u001b[0m\u001b[1;33m\u001b[0m\u001b[1;33m\u001b[0m\u001b[0m\n",
      "\u001b[1;31mNameError\u001b[0m: name 'Y_test' is not defined"
     ]
    }
   ],
   "source": [
    "from sklearn import metrics\n",
    "import numpy as np\n",
    "  \n",
    "print('Mean Absolute Error:', metrics.mean_absolute_error(Y_test, Y_Pred))  \n",
    "print('Mean Squared Error:', metrics.mean_squared_error(Y_test, Y_Pred))  \n",
    "print('Root Mean Squared Error:', np.sqrt(metrics.mean_squared_error(Y_test, Y_Pred))) "
   ]
  },
  {
   "cell_type": "code",
   "execution_count": 23,
   "id": "f5ab5a2c",
   "metadata": {},
   "outputs": [
    {
     "data": {
      "text/plain": [
       "1327.0422265141256"
      ]
     },
     "execution_count": 23,
     "metadata": {},
     "output_type": "execute_result"
    }
   ],
   "source": [
    "data.charges.mean()/10"
   ]
  },
  {
   "cell_type": "code",
   "execution_count": null,
   "id": "dccf9258",
   "metadata": {},
   "outputs": [],
   "source": [
    "#Since, RMSE value of 6551.16 is not less than or equal to mean of targer variable i.e., charges (1327.04).\n",
    "#Our model did not perform/predicted well, we can tune this model or alter supplied column to see any positive change."
   ]
  },
  {
   "cell_type": "code",
   "execution_count": 22,
   "id": "b2f7656b",
   "metadata": {},
   "outputs": [
    {
     "name": "stdout",
     "output_type": "stream",
     "text": [
      "Index(['age', 'sex', 'bmi', 'children', 'smoker', 'region', 'charges'], dtype='object')\n"
     ]
    }
   ],
   "source": [
    "#gettin columns' names spitially sometimes there is a space in some columns' names\n",
    "data_columns=data.columns\n",
    "print(data_columns)"
   ]
  },
  {
   "cell_type": "code",
   "execution_count": 23,
   "id": "723cab9f",
   "metadata": {},
   "outputs": [
    {
     "data": {
      "text/html": [
       "<div>\n",
       "<style scoped>\n",
       "    .dataframe tbody tr th:only-of-type {\n",
       "        vertical-align: middle;\n",
       "    }\n",
       "\n",
       "    .dataframe tbody tr th {\n",
       "        vertical-align: top;\n",
       "    }\n",
       "\n",
       "    .dataframe thead th {\n",
       "        text-align: right;\n",
       "    }\n",
       "</style>\n",
       "<table border=\"1\" class=\"dataframe\">\n",
       "  <thead>\n",
       "    <tr style=\"text-align: right;\">\n",
       "      <th></th>\n",
       "      <th>age</th>\n",
       "      <th>bmi</th>\n",
       "      <th>children</th>\n",
       "      <th>charges</th>\n",
       "    </tr>\n",
       "  </thead>\n",
       "  <tbody>\n",
       "    <tr>\n",
       "      <th>count</th>\n",
       "      <td>1338.00</td>\n",
       "      <td>1338.00</td>\n",
       "      <td>1338.00</td>\n",
       "      <td>1338.00</td>\n",
       "    </tr>\n",
       "    <tr>\n",
       "      <th>mean</th>\n",
       "      <td>39.21</td>\n",
       "      <td>30.66</td>\n",
       "      <td>1.09</td>\n",
       "      <td>13270.42</td>\n",
       "    </tr>\n",
       "    <tr>\n",
       "      <th>std</th>\n",
       "      <td>14.05</td>\n",
       "      <td>6.10</td>\n",
       "      <td>1.21</td>\n",
       "      <td>12110.01</td>\n",
       "    </tr>\n",
       "    <tr>\n",
       "      <th>min</th>\n",
       "      <td>18.00</td>\n",
       "      <td>15.96</td>\n",
       "      <td>0.00</td>\n",
       "      <td>1121.87</td>\n",
       "    </tr>\n",
       "    <tr>\n",
       "      <th>25%</th>\n",
       "      <td>27.00</td>\n",
       "      <td>26.30</td>\n",
       "      <td>0.00</td>\n",
       "      <td>4740.29</td>\n",
       "    </tr>\n",
       "    <tr>\n",
       "      <th>50%</th>\n",
       "      <td>39.00</td>\n",
       "      <td>30.40</td>\n",
       "      <td>1.00</td>\n",
       "      <td>9382.03</td>\n",
       "    </tr>\n",
       "    <tr>\n",
       "      <th>75%</th>\n",
       "      <td>51.00</td>\n",
       "      <td>34.69</td>\n",
       "      <td>2.00</td>\n",
       "      <td>16639.91</td>\n",
       "    </tr>\n",
       "    <tr>\n",
       "      <th>max</th>\n",
       "      <td>64.00</td>\n",
       "      <td>53.13</td>\n",
       "      <td>5.00</td>\n",
       "      <td>63770.43</td>\n",
       "    </tr>\n",
       "  </tbody>\n",
       "</table>\n",
       "</div>"
      ],
      "text/plain": [
       "          age     bmi  children  charges\n",
       "count 1338.00 1338.00   1338.00  1338.00\n",
       "mean    39.21   30.66      1.09 13270.42\n",
       "std     14.05    6.10      1.21 12110.01\n",
       "min     18.00   15.96      0.00  1121.87\n",
       "25%     27.00   26.30      0.00  4740.29\n",
       "50%     39.00   30.40      1.00  9382.03\n",
       "75%     51.00   34.69      2.00 16639.91\n",
       "max     64.00   53.13      5.00 63770.43"
      ]
     },
     "execution_count": 23,
     "metadata": {},
     "output_type": "execute_result"
    }
   ],
   "source": [
    "# Getting the summary of Data\n",
    "pd.options.display.float_format = \"{:.2f}\".format\n",
    "data.describe()#"
   ]
  },
  {
   "cell_type": "code",
   "execution_count": 25,
   "id": "a98d7073",
   "metadata": {},
   "outputs": [
    {
     "data": {
      "text/html": [
       "<div>\n",
       "<style scoped>\n",
       "    .dataframe tbody tr th:only-of-type {\n",
       "        vertical-align: middle;\n",
       "    }\n",
       "\n",
       "    .dataframe tbody tr th {\n",
       "        vertical-align: top;\n",
       "    }\n",
       "\n",
       "    .dataframe thead th {\n",
       "        text-align: right;\n",
       "    }\n",
       "</style>\n",
       "<table border=\"1\" class=\"dataframe\">\n",
       "  <thead>\n",
       "    <tr style=\"text-align: right;\">\n",
       "      <th></th>\n",
       "      <th>count</th>\n",
       "      <th>mean</th>\n",
       "      <th>std</th>\n",
       "      <th>min</th>\n",
       "      <th>25%</th>\n",
       "      <th>50%</th>\n",
       "      <th>75%</th>\n",
       "      <th>max</th>\n",
       "    </tr>\n",
       "  </thead>\n",
       "  <tbody>\n",
       "    <tr>\n",
       "      <th>age</th>\n",
       "      <td>1338.00</td>\n",
       "      <td>39.21</td>\n",
       "      <td>14.05</td>\n",
       "      <td>18.00</td>\n",
       "      <td>27.00</td>\n",
       "      <td>39.00</td>\n",
       "      <td>51.00</td>\n",
       "      <td>64.00</td>\n",
       "    </tr>\n",
       "    <tr>\n",
       "      <th>bmi</th>\n",
       "      <td>1338.00</td>\n",
       "      <td>30.66</td>\n",
       "      <td>6.10</td>\n",
       "      <td>15.96</td>\n",
       "      <td>26.30</td>\n",
       "      <td>30.40</td>\n",
       "      <td>34.69</td>\n",
       "      <td>53.13</td>\n",
       "    </tr>\n",
       "    <tr>\n",
       "      <th>children</th>\n",
       "      <td>1338.00</td>\n",
       "      <td>1.09</td>\n",
       "      <td>1.21</td>\n",
       "      <td>0.00</td>\n",
       "      <td>0.00</td>\n",
       "      <td>1.00</td>\n",
       "      <td>2.00</td>\n",
       "      <td>5.00</td>\n",
       "    </tr>\n",
       "    <tr>\n",
       "      <th>charges</th>\n",
       "      <td>1338.00</td>\n",
       "      <td>13270.42</td>\n",
       "      <td>12110.01</td>\n",
       "      <td>1121.87</td>\n",
       "      <td>4740.29</td>\n",
       "      <td>9382.03</td>\n",
       "      <td>16639.91</td>\n",
       "      <td>63770.43</td>\n",
       "    </tr>\n",
       "  </tbody>\n",
       "</table>\n",
       "</div>"
      ],
      "text/plain": [
       "           count     mean      std     min     25%     50%      75%      max\n",
       "age      1338.00    39.21    14.05   18.00   27.00   39.00    51.00    64.00\n",
       "bmi      1338.00    30.66     6.10   15.96   26.30   30.40    34.69    53.13\n",
       "children 1338.00     1.09     1.21    0.00    0.00    1.00     2.00     5.00\n",
       "charges  1338.00 13270.42 12110.01 1121.87 4740.29 9382.03 16639.91 63770.43"
      ]
     },
     "execution_count": 25,
     "metadata": {},
     "output_type": "execute_result"
    }
   ],
   "source": [
    "data.describe().transpose()#to see better"
   ]
  },
  {
   "cell_type": "code",
   "execution_count": 26,
   "id": "bc3d4e89",
   "metadata": {},
   "outputs": [
    {
     "data": {
      "text/html": [
       "<div>\n",
       "<style scoped>\n",
       "    .dataframe tbody tr th:only-of-type {\n",
       "        vertical-align: middle;\n",
       "    }\n",
       "\n",
       "    .dataframe tbody tr th {\n",
       "        vertical-align: top;\n",
       "    }\n",
       "\n",
       "    .dataframe thead th {\n",
       "        text-align: right;\n",
       "    }\n",
       "</style>\n",
       "<table border=\"1\" class=\"dataframe\">\n",
       "  <thead>\n",
       "    <tr style=\"text-align: right;\">\n",
       "      <th></th>\n",
       "      <th>count</th>\n",
       "      <th>unique</th>\n",
       "      <th>top</th>\n",
       "      <th>freq</th>\n",
       "    </tr>\n",
       "  </thead>\n",
       "  <tbody>\n",
       "    <tr>\n",
       "      <th>age</th>\n",
       "      <td>1338</td>\n",
       "      <td>47</td>\n",
       "      <td>18</td>\n",
       "      <td>69</td>\n",
       "    </tr>\n",
       "    <tr>\n",
       "      <th>sex</th>\n",
       "      <td>1338</td>\n",
       "      <td>2</td>\n",
       "      <td>male</td>\n",
       "      <td>676</td>\n",
       "    </tr>\n",
       "    <tr>\n",
       "      <th>bmi</th>\n",
       "      <td>1338.00</td>\n",
       "      <td>548.00</td>\n",
       "      <td>32.30</td>\n",
       "      <td>13.00</td>\n",
       "    </tr>\n",
       "    <tr>\n",
       "      <th>children</th>\n",
       "      <td>1338</td>\n",
       "      <td>6</td>\n",
       "      <td>0</td>\n",
       "      <td>574</td>\n",
       "    </tr>\n",
       "    <tr>\n",
       "      <th>smoker</th>\n",
       "      <td>1338</td>\n",
       "      <td>2</td>\n",
       "      <td>no</td>\n",
       "      <td>1064</td>\n",
       "    </tr>\n",
       "    <tr>\n",
       "      <th>region</th>\n",
       "      <td>1338</td>\n",
       "      <td>4</td>\n",
       "      <td>southeast</td>\n",
       "      <td>364</td>\n",
       "    </tr>\n",
       "    <tr>\n",
       "      <th>charges</th>\n",
       "      <td>1338.00</td>\n",
       "      <td>1337.00</td>\n",
       "      <td>1639.56</td>\n",
       "      <td>2.00</td>\n",
       "    </tr>\n",
       "  </tbody>\n",
       "</table>\n",
       "</div>"
      ],
      "text/plain": [
       "           count  unique        top  freq\n",
       "age         1338      47         18    69\n",
       "sex         1338       2       male   676\n",
       "bmi      1338.00  548.00      32.30 13.00\n",
       "children    1338       6          0   574\n",
       "smoker      1338       2         no  1064\n",
       "region      1338       4  southeast   364\n",
       "charges  1338.00 1337.00    1639.56  2.00"
      ]
     },
     "execution_count": 26,
     "metadata": {},
     "output_type": "execute_result"
    }
   ],
   "source": [
    "data.astype('object').describe().transpose()# to see count and uniqe values and mode(top) and fequence of top for all columns"
   ]
  },
  {
   "cell_type": "code",
   "execution_count": 27,
   "id": "e5378a1c",
   "metadata": {},
   "outputs": [
    {
     "name": "stdout",
     "output_type": "stream",
     "text": [
      "Collecting https://github.com/pandas-profiling/pandas-profiling/archive/master.zip\n",
      "  Downloading https://github.com/pandas-profiling/pandas-profiling/archive/master.zip\n",
      "Collecting joblib~=1.1.0\n",
      "  Downloading joblib-1.1.0-py2.py3-none-any.whl (306 kB)\n",
      "Requirement already satisfied: scipy>=1.4.1 in c:\\programdata\\anaconda3\\lib\\site-packages (from pandas-profiling==3.1.1) (1.6.2)\n",
      "Requirement already satisfied: pandas!=1.0.0,!=1.0.1,!=1.0.2,!=1.1.0,>=0.25.3 in c:\\programdata\\anaconda3\\lib\\site-packages (from pandas-profiling==3.1.1) (1.2.4)\n",
      "Requirement already satisfied: matplotlib>=3.2.0 in c:\\programdata\\anaconda3\\lib\\site-packages (from pandas-profiling==3.1.1) (3.3.4)\n",
      "Collecting pydantic>=1.8.1\n",
      "  Downloading pydantic-1.9.0-cp38-cp38-win_amd64.whl (2.1 MB)\n",
      "Requirement already satisfied: PyYAML>=5.0.0 in c:\\programdata\\anaconda3\\lib\\site-packages (from pandas-profiling==3.1.1) (5.4.1)\n",
      "Requirement already satisfied: jinja2>=2.11.1 in c:\\programdata\\anaconda3\\lib\\site-packages (from pandas-profiling==3.1.1) (2.11.3)\n",
      "Collecting markupsafe~=2.0.1\n",
      "  Downloading MarkupSafe-2.0.1-cp38-cp38-win_amd64.whl (14 kB)\n",
      "Collecting visions[type_image_path]==0.7.4\n",
      "  Downloading visions-0.7.4-py3-none-any.whl (102 kB)\n",
      "Requirement already satisfied: numpy>=1.16.0 in c:\\programdata\\anaconda3\\lib\\site-packages (from pandas-profiling==3.1.1) (1.20.1)\n",
      "Collecting htmlmin>=0.1.12\n",
      "  Downloading htmlmin-0.1.12.tar.gz (19 kB)\n",
      "Collecting missingno>=0.4.2\n",
      "  Downloading missingno-0.5.0-py3-none-any.whl (8.8 kB)\n",
      "Collecting phik>=0.11.1\n",
      "  Downloading phik-0.12.0-cp38-cp38-win_amd64.whl (659 kB)\n",
      "Collecting tangled-up-in-unicode==0.2.0\n",
      "  Downloading tangled_up_in_unicode-0.2.0-py3-none-any.whl (4.7 MB)\n",
      "Requirement already satisfied: requests>=2.24.0 in c:\\programdata\\anaconda3\\lib\\site-packages (from pandas-profiling==3.1.1) (2.25.1)\n",
      "Requirement already satisfied: tqdm>=4.48.2 in c:\\programdata\\anaconda3\\lib\\site-packages (from pandas-profiling==3.1.1) (4.59.0)\n",
      "Requirement already satisfied: seaborn>=0.10.1 in c:\\programdata\\anaconda3\\lib\\site-packages (from pandas-profiling==3.1.1) (0.11.1)\n",
      "Collecting multimethod>=1.4\n",
      "  Downloading multimethod-1.7-py3-none-any.whl (9.5 kB)\n",
      "Requirement already satisfied: networkx>=2.4 in c:\\programdata\\anaconda3\\lib\\site-packages (from visions[type_image_path]==0.7.4->pandas-profiling==3.1.1) (2.5)\n",
      "Requirement already satisfied: attrs>=19.3.0 in c:\\programdata\\anaconda3\\lib\\site-packages (from visions[type_image_path]==0.7.4->pandas-profiling==3.1.1) (20.3.0)\n",
      "Requirement already satisfied: Pillow in c:\\programdata\\anaconda3\\lib\\site-packages (from visions[type_image_path]==0.7.4->pandas-profiling==3.1.1) (8.2.0)\n",
      "Collecting imagehash\n",
      "  Downloading ImageHash-4.2.1.tar.gz (812 kB)\n",
      "Requirement already satisfied: python-dateutil>=2.1 in c:\\programdata\\anaconda3\\lib\\site-packages (from matplotlib>=3.2.0->pandas-profiling==3.1.1) (2.8.1)\n",
      "Requirement already satisfied: kiwisolver>=1.0.1 in c:\\programdata\\anaconda3\\lib\\site-packages (from matplotlib>=3.2.0->pandas-profiling==3.1.1) (1.3.1)\n",
      "Requirement already satisfied: pyparsing!=2.0.4,!=2.1.2,!=2.1.6,>=2.0.3 in c:\\programdata\\anaconda3\\lib\\site-packages (from matplotlib>=3.2.0->pandas-profiling==3.1.1) (2.4.7)\n",
      "Requirement already satisfied: cycler>=0.10 in c:\\programdata\\anaconda3\\lib\\site-packages (from matplotlib>=3.2.0->pandas-profiling==3.1.1) (0.10.0)\n",
      "Requirement already satisfied: six in c:\\programdata\\anaconda3\\lib\\site-packages (from cycler>=0.10->matplotlib>=3.2.0->pandas-profiling==3.1.1) (1.15.0)\n",
      "Requirement already satisfied: decorator>=4.3.0 in c:\\programdata\\anaconda3\\lib\\site-packages (from networkx>=2.4->visions[type_image_path]==0.7.4->pandas-profiling==3.1.1) (5.0.6)\n",
      "Requirement already satisfied: pytz>=2017.3 in c:\\programdata\\anaconda3\\lib\\site-packages (from pandas!=1.0.0,!=1.0.1,!=1.0.2,!=1.1.0,>=0.25.3->pandas-profiling==3.1.1) (2021.1)\n",
      "Requirement already satisfied: typing-extensions>=3.7.4.3 in c:\\programdata\\anaconda3\\lib\\site-packages (from pydantic>=1.8.1->pandas-profiling==3.1.1) (3.7.4.3)\n",
      "Requirement already satisfied: urllib3<1.27,>=1.21.1 in c:\\programdata\\anaconda3\\lib\\site-packages (from requests>=2.24.0->pandas-profiling==3.1.1) (1.26.4)\n",
      "Requirement already satisfied: certifi>=2017.4.17 in c:\\programdata\\anaconda3\\lib\\site-packages (from requests>=2.24.0->pandas-profiling==3.1.1) (2020.12.5)\n",
      "Requirement already satisfied: chardet<5,>=3.0.2 in c:\\programdata\\anaconda3\\lib\\site-packages (from requests>=2.24.0->pandas-profiling==3.1.1) (4.0.0)\n",
      "Requirement already satisfied: idna<3,>=2.5 in c:\\programdata\\anaconda3\\lib\\site-packages (from requests>=2.24.0->pandas-profiling==3.1.1) (2.10)\n",
      "Requirement already satisfied: PyWavelets in c:\\programdata\\anaconda3\\lib\\site-packages (from imagehash->visions[type_image_path]==0.7.4->pandas-profiling==3.1.1) (1.1.1)\n",
      "Building wheels for collected packages: pandas-profiling, htmlmin, imagehash\n",
      "  Building wheel for pandas-profiling (setup.py): started\n",
      "  Building wheel for pandas-profiling (setup.py): finished with status 'done'\n",
      "  Created wheel for pandas-profiling: filename=pandas_profiling-3.1.1-py2.py3-none-any.whl size=261270 sha256=36603d6cbe9783c6164a245bcf830e3cd848ade4a0c279b36f6080e4a23e4ea0\n",
      "  Stored in directory: C:\\Users\\Rajani-janah\\AppData\\Local\\Temp\\pip-ephem-wheel-cache-s4vriw4f\\wheels\\64\\b6\\85\\dfc808b23666a5910371784e349d28818006ff63ed9cfeca59\n",
      "  Building wheel for htmlmin (setup.py): started\n",
      "  Building wheel for htmlmin (setup.py): finished with status 'done'\n",
      "  Created wheel for htmlmin: filename=htmlmin-0.1.12-py3-none-any.whl size=27085 sha256=0ed363c78967b21d6504d51bee49f07c80f7bbaba97f0bbb5bcfe0d9df0daa1e\n",
      "  Stored in directory: c:\\users\\rajani-janah\\appdata\\local\\pip\\cache\\wheels\\23\\14\\6e\\4be5bfeeb027f4939a01764b48edd5996acf574b0913fe5243\n",
      "  Building wheel for imagehash (setup.py): started\n",
      "  Building wheel for imagehash (setup.py): finished with status 'done'\n",
      "  Created wheel for imagehash: filename=ImageHash-4.2.1-py2.py3-none-any.whl size=295198 sha256=091d3c381131ffb75d600afab2fa0c8acbdf94426bb5e8ac9f4b0b7e5d0e8021\n",
      "  Stored in directory: c:\\users\\rajani-janah\\appdata\\local\\pip\\cache\\wheels\\48\\a1\\7f\\096c1269d6bf78d4768180602579b35a1e8cb1250bb4b40c74\n",
      "Successfully built pandas-profiling htmlmin imagehash\n",
      "Installing collected packages: tangled-up-in-unicode, multimethod, visions, markupsafe, joblib, imagehash, pydantic, phik, missingno, htmlmin, pandas-profiling\n",
      "  Attempting uninstall: markupsafe\n",
      "    Found existing installation: MarkupSafe 1.1.1\n",
      "    Uninstalling MarkupSafe-1.1.1:\n"
     ]
    },
    {
     "name": "stderr",
     "output_type": "stream",
     "text": [
      "ERROR: Could not install packages due to an OSError: [WinError 5] Access is denied: 'c:\\\\programdata\\\\anaconda3\\\\lib\\\\site-packages\\\\markupsafe-1.1.1.dist-info\\\\INSTALLER'\n",
      "Consider using the `--user` option or check the permissions.\n",
      "\n"
     ]
    },
    {
     "ename": "ModuleNotFoundError",
     "evalue": "No module named 'pandas_profiling'",
     "output_type": "error",
     "traceback": [
      "\u001b[1;31m---------------------------------------------------------------------------\u001b[0m",
      "\u001b[1;31mModuleNotFoundError\u001b[0m                       Traceback (most recent call last)",
      "\u001b[1;32m<ipython-input-27-1657a8a7cb0d>\u001b[0m in \u001b[0;36m<module>\u001b[1;34m\u001b[0m\n\u001b[0;32m      1\u001b[0m \u001b[0mget_ipython\u001b[0m\u001b[1;33m(\u001b[0m\u001b[1;33m)\u001b[0m\u001b[1;33m.\u001b[0m\u001b[0msystem\u001b[0m\u001b[1;33m(\u001b[0m\u001b[1;34m'pip install https://github.com/pandas-profiling/pandas-profiling/archive/master.zip'\u001b[0m\u001b[1;33m)\u001b[0m\u001b[1;33m\u001b[0m\u001b[1;33m\u001b[0m\u001b[0m\n\u001b[1;32m----> 2\u001b[1;33m \u001b[1;32mimport\u001b[0m \u001b[0mpandas_profiling\u001b[0m\u001b[1;33m\u001b[0m\u001b[1;33m\u001b[0m\u001b[0m\n\u001b[0m\u001b[0;32m      3\u001b[0m \u001b[1;32mfrom\u001b[0m \u001b[0mpandas_profiling\u001b[0m \u001b[1;32mimport\u001b[0m \u001b[0mProfileReport\u001b[0m\u001b[1;33m\u001b[0m\u001b[1;33m\u001b[0m\u001b[0m\n",
      "\u001b[1;31mModuleNotFoundError\u001b[0m: No module named 'pandas_profiling'"
     ]
    }
   ],
   "source": [
    "!pip install https://github.com/pandas-profiling/pandas-profiling/archive/master.zip\n",
    "import pandas_profiling\n",
    "from pandas_profiling import ProfileReport"
   ]
  },
  {
   "cell_type": "code",
   "execution_count": null,
   "id": "967f4294",
   "metadata": {},
   "outputs": [],
   "source": [
    "pandas_profiling.ProfileReport(data)"
   ]
  },
  {
   "cell_type": "markdown",
   "id": "29dca1ef",
   "metadata": {},
   "source": [
    "### separate characteristic and numeric variable"
   ]
  },
  {
   "cell_type": "code",
   "execution_count": 28,
   "id": "bb9099a4",
   "metadata": {},
   "outputs": [
    {
     "data": {
      "text/plain": [
       "Index(['sex', 'smoker', 'region'], dtype='object')"
      ]
     },
     "execution_count": 28,
     "metadata": {},
     "output_type": "execute_result"
    }
   ],
   "source": [
    "\n",
    "#categrocial variables\n",
    "data_cat=data.select_dtypes(include='object')\n",
    "data_cat.columns"
   ]
  },
  {
   "cell_type": "code",
   "execution_count": 29,
   "id": "67a059c1",
   "metadata": {},
   "outputs": [
    {
     "data": {
      "text/plain": [
       "Index(['age', 'bmi', 'children', 'charges'], dtype='object')"
      ]
     },
     "execution_count": 29,
     "metadata": {},
     "output_type": "execute_result"
    }
   ],
   "source": [
    "#numeric variables\n",
    "data_num=data.select_dtypes(exclude='object')# Just get me the numeric variables\n",
    "data_num.columns"
   ]
  },
  {
   "cell_type": "code",
   "execution_count": 31,
   "id": "12869d79",
   "metadata": {},
   "outputs": [],
   "source": [
    "data_org1=data.copy()"
   ]
  },
  {
   "cell_type": "markdown",
   "id": "f701ac34",
   "metadata": {},
   "source": [
    "### Data cleansing"
   ]
  },
  {
   "cell_type": "code",
   "execution_count": 32,
   "id": "42780721",
   "metadata": {},
   "outputs": [
    {
     "data": {
      "text/plain": [
       "1"
      ]
     },
     "execution_count": 32,
     "metadata": {},
     "output_type": "execute_result"
    }
   ],
   "source": [
    "data.duplicated().sum()"
   ]
  },
  {
   "cell_type": "code",
   "execution_count": 33,
   "id": "8df3828c",
   "metadata": {},
   "outputs": [
    {
     "name": "stdout",
     "output_type": "stream",
     "text": [
      "(1338, 7) (1337, 7)\n"
     ]
    }
   ],
   "source": [
    "data_dub=data.drop_duplicates()\n",
    "print(data.shape,data_dub.shape)\n"
   ]
  },
  {
   "cell_type": "code",
   "execution_count": 34,
   "id": "f3c0529d",
   "metadata": {},
   "outputs": [
    {
     "name": "stdout",
     "output_type": "stream",
     "text": [
      "Skewness: 1.515880\n",
      "Kurtosis: 1.606299\n"
     ]
    }
   ],
   "source": [
    "#skewness and kurtosis\n",
    "print(\"Skewness: %f\" % data['charges'].skew())\n",
    "print(\"Kurtosis: %f\" % data['charges'].kurt())"
   ]
  },
  {
   "cell_type": "markdown",
   "id": "cd7bf0cf",
   "metadata": {},
   "source": [
    "###    Finding Outliers and F_score mothod"
   ]
  },
  {
   "cell_type": "code",
   "execution_count": 37,
   "id": "0ff92fb7",
   "metadata": {},
   "outputs": [
    {
     "name": "stdout",
     "output_type": "stream",
     "text": [
      "(1338, 7) (1331, 7)\n"
     ]
    },
    {
     "data": {
      "text/plain": [
       "7"
      ]
     },
     "execution_count": 37,
     "metadata": {},
     "output_type": "execute_result"
    }
   ],
   "source": [
    "data1_num=data.select_dtypes(exclude='object')# Just get me the numeric variables\n",
    "# I create my own loop to go through all numerical variables one by one and select only records that have z-score less than 3\n",
    "for i in data1_num:\n",
    "   data2=data[((data[i]-data[i].mean())/data[i].std()).abs()<3]\n",
    "   \n",
    "\n",
    "\n",
    "print(data.shape,data2.shape)\n",
    "data.shape[0]-data2.shape[0]"
   ]
  },
  {
   "cell_type": "code",
   "execution_count": 38,
   "id": "ec051d6f",
   "metadata": {},
   "outputs": [],
   "source": [
    "data=data2"
   ]
  },
  {
   "cell_type": "markdown",
   "id": "ea435ae8",
   "metadata": {},
   "source": [
    "### Applying IQR method"
   ]
  },
  {
   "cell_type": "code",
   "execution_count": 46,
   "id": "822e1479",
   "metadata": {},
   "outputs": [],
   "source": [
    "#lower outer fence: Q1 - 3*IQR\n",
    "#upper outer fence: Q3 + 3*IQR\n",
    "def outlier_analysis(col):\n",
    "    Q1=data[col].quantile(0.25)\n",
    "    Q3=data[col].quantile(0.75)\n",
    "    IQR=Q3-Q1\n",
    "    UOF=Q3+3*(IQR)#UOF is upper inner fence\n",
    "    LOF=Q1-3*(IQR)#LOF is lower inner fence\n",
    "    data_out =data[(data[col]<LOF) | (data[col]>UOF)] # I created a new data set that has just include potential outliers\n",
    "    sns.distplot(data_out[col])#Plotting univariate distributions.By default, this will draw a histogram and fit a kernel density estimate (KDE)\n",
    "   \n",
    "    return data_out[col] .describe()"
   ]
  },
  {
   "cell_type": "code",
   "execution_count": 47,
   "id": "e6f2fe0b",
   "metadata": {},
   "outputs": [
    {
     "data": {
      "text/plain": [
       "Index(['age', 'bmi', 'children', 'charges'], dtype='object')"
      ]
     },
     "execution_count": 47,
     "metadata": {},
     "output_type": "execute_result"
    }
   ],
   "source": [
    "data_num.columns"
   ]
  },
  {
   "cell_type": "code",
   "execution_count": 48,
   "id": "97e740b1",
   "metadata": {},
   "outputs": [
    {
     "data": {
      "text/plain": [
       "count   0.00\n",
       "mean     NaN\n",
       "std      NaN\n",
       "min      NaN\n",
       "25%      NaN\n",
       "50%      NaN\n",
       "75%      NaN\n",
       "max      NaN\n",
       "Name: age, dtype: float64"
      ]
     },
     "execution_count": 48,
     "metadata": {},
     "output_type": "execute_result"
    },
    {
     "data": {
      "image/png": "[encoded data removed]",
      "text/plain": [
       "<Figure size 432x288 with 1 Axes>"
      ]
     },
     "metadata": {
      "needs_background": "light"
     },
     "output_type": "display_data"
    }
   ],
   "source": [
    "outlier_analysis(\"age\")"
   ]
  },
  {
   "cell_type": "code",
   "execution_count": 49,
   "id": "8f866a1b",
   "metadata": {},
   "outputs": [
    {
     "data": {
      "text/plain": [
       "count   0.00\n",
       "mean     NaN\n",
       "std      NaN\n",
       "min      NaN\n",
       "25%      NaN\n",
       "50%      NaN\n",
       "75%      NaN\n",
       "max      NaN\n",
       "Name: bmi, dtype: float64"
      ]
     },
     "execution_count": 49,
     "metadata": {},
     "output_type": "execute_result"
    },
    {
     "data": {
      "image/png": "[encoded data removed]",
      "text/plain": [
       "<Figure size 432x288 with 1 Axes>"
      ]
     },
     "metadata": {
      "needs_background": "light"
     },
     "output_type": "display_data"
    }
   ],
   "source": [
    "outlier_analysis(\"bmi\")"
   ]
  },
  {
   "cell_type": "markdown",
   "id": "b9426b77",
   "metadata": {},
   "source": [
    "### converting all categorical variables to numeric(Encode)"
   ]
  },
  {
   "cell_type": "code",
   "execution_count": 79,
   "id": "470d411c",
   "metadata": {},
   "outputs": [],
   "source": [
    "import seaborn as sns"
   ]
  },
  {
   "cell_type": "code",
   "execution_count": 81,
   "id": "25105bfa",
   "metadata": {},
   "outputs": [
    {
     "ename": "ValueError",
     "evalue": "Could not interpret input 'smoker'",
     "output_type": "error",
     "traceback": [
      "\u001b[1;31m---------------------------------------------------------------------------\u001b[0m",
      "\u001b[1;31mValueError\u001b[0m                                Traceback (most recent call last)",
      "\u001b[1;32m<ipython-input-81-f33924908492>\u001b[0m in \u001b[0;36m<module>\u001b[1;34m\u001b[0m\n\u001b[1;32m----> 1\u001b[1;33m \u001b[0msns\u001b[0m\u001b[1;33m.\u001b[0m\u001b[0mcatplot\u001b[0m\u001b[1;33m(\u001b[0m\u001b[0mx\u001b[0m\u001b[1;33m=\u001b[0m\u001b[1;34m\"smoker\"\u001b[0m\u001b[1;33m,\u001b[0m \u001b[0mkind\u001b[0m\u001b[1;33m=\u001b[0m\u001b[1;34m\"count\"\u001b[0m\u001b[1;33m,\u001b[0m\u001b[0mhue\u001b[0m \u001b[1;33m=\u001b[0m \u001b[1;34m'sex'\u001b[0m\u001b[1;33m,\u001b[0m \u001b[0mpalette\u001b[0m\u001b[1;33m=\u001b[0m\u001b[1;34m\"pink\"\u001b[0m\u001b[1;33m,\u001b[0m \u001b[0mdf\u001b[0m\u001b[1;33m=\u001b[0m\u001b[0mdata\u001b[0m\u001b[1;33m)\u001b[0m\u001b[1;33m\u001b[0m\u001b[1;33m\u001b[0m\u001b[0m\n\u001b[0m",
      "\u001b[1;32mC:\\ProgramData\\Anaconda3\\lib\\site-packages\\seaborn\\_decorators.py\u001b[0m in \u001b[0;36minner_f\u001b[1;34m(*args, **kwargs)\u001b[0m\n\u001b[0;32m     44\u001b[0m             )\n\u001b[0;32m     45\u001b[0m         \u001b[0mkwargs\u001b[0m\u001b[1;33m.\u001b[0m\u001b[0mupdate\u001b[0m\u001b[1;33m(\u001b[0m\u001b[1;33m{\u001b[0m\u001b[0mk\u001b[0m\u001b[1;33m:\u001b[0m \u001b[0marg\u001b[0m \u001b[1;32mfor\u001b[0m \u001b[0mk\u001b[0m\u001b[1;33m,\u001b[0m \u001b[0marg\u001b[0m \u001b[1;32min\u001b[0m \u001b[0mzip\u001b[0m\u001b[1;33m(\u001b[0m\u001b[0msig\u001b[0m\u001b[1;33m.\u001b[0m\u001b[0mparameters\u001b[0m\u001b[1;33m,\u001b[0m \u001b[0margs\u001b[0m\u001b[1;33m)\u001b[0m\u001b[1;33m}\u001b[0m\u001b[1;33m)\u001b[0m\u001b[1;33m\u001b[0m\u001b[1;33m\u001b[0m\u001b[0m\n\u001b[1;32m---> 46\u001b[1;33m         \u001b[1;32mreturn\u001b[0m \u001b[0mf\u001b[0m\u001b[1;33m(\u001b[0m\u001b[1;33m**\u001b[0m\u001b[0mkwargs\u001b[0m\u001b[1;33m)\u001b[0m\u001b[1;33m\u001b[0m\u001b[1;33m\u001b[0m\u001b[0m\n\u001b[0m\u001b[0;32m     47\u001b[0m     \u001b[1;32mreturn\u001b[0m \u001b[0minner_f\u001b[0m\u001b[1;33m\u001b[0m\u001b[1;33m\u001b[0m\u001b[0m\n\u001b[0;32m     48\u001b[0m \u001b[1;33m\u001b[0m\u001b[0m\n",
      "\u001b[1;32mC:\\ProgramData\\Anaconda3\\lib\\site-packages\\seaborn\\categorical.py\u001b[0m in \u001b[0;36mcatplot\u001b[1;34m(x, y, hue, data, row, col, col_wrap, estimator, ci, n_boot, units, seed, order, hue_order, row_order, col_order, kind, height, aspect, orient, color, palette, legend, legend_out, sharex, sharey, margin_titles, facet_kws, **kwargs)\u001b[0m\n\u001b[0;32m   3787\u001b[0m     \u001b[0mp\u001b[0m \u001b[1;33m=\u001b[0m \u001b[0m_CategoricalPlotter\u001b[0m\u001b[1;33m(\u001b[0m\u001b[1;33m)\u001b[0m\u001b[1;33m\u001b[0m\u001b[1;33m\u001b[0m\u001b[0m\n\u001b[0;32m   3788\u001b[0m     \u001b[0mp\u001b[0m\u001b[1;33m.\u001b[0m\u001b[0mrequire_numeric\u001b[0m \u001b[1;33m=\u001b[0m \u001b[0mplotter_class\u001b[0m\u001b[1;33m.\u001b[0m\u001b[0mrequire_numeric\u001b[0m\u001b[1;33m\u001b[0m\u001b[1;33m\u001b[0m\u001b[0m\n\u001b[1;32m-> 3789\u001b[1;33m     \u001b[0mp\u001b[0m\u001b[1;33m.\u001b[0m\u001b[0mestablish_variables\u001b[0m\u001b[1;33m(\u001b[0m\u001b[0mx_\u001b[0m\u001b[1;33m,\u001b[0m \u001b[0my_\u001b[0m\u001b[1;33m,\u001b[0m \u001b[0mhue\u001b[0m\u001b[1;33m,\u001b[0m \u001b[0mdata\u001b[0m\u001b[1;33m,\u001b[0m \u001b[0morient\u001b[0m\u001b[1;33m,\u001b[0m \u001b[0morder\u001b[0m\u001b[1;33m,\u001b[0m \u001b[0mhue_order\u001b[0m\u001b[1;33m)\u001b[0m\u001b[1;33m\u001b[0m\u001b[1;33m\u001b[0m\u001b[0m\n\u001b[0m\u001b[0;32m   3790\u001b[0m     if (\n\u001b[0;32m   3791\u001b[0m         \u001b[0morder\u001b[0m \u001b[1;32mis\u001b[0m \u001b[1;32mnot\u001b[0m \u001b[1;32mNone\u001b[0m\u001b[1;33m\u001b[0m\u001b[1;33m\u001b[0m\u001b[0m\n",
      "\u001b[1;32mC:\\ProgramData\\Anaconda3\\lib\\site-packages\\seaborn\\categorical.py\u001b[0m in \u001b[0;36mestablish_variables\u001b[1;34m(self, x, y, hue, data, orient, order, hue_order, units)\u001b[0m\n\u001b[0;32m    151\u001b[0m                 \u001b[1;32mif\u001b[0m \u001b[0misinstance\u001b[0m\u001b[1;33m(\u001b[0m\u001b[0mvar\u001b[0m\u001b[1;33m,\u001b[0m \u001b[0mstr\u001b[0m\u001b[1;33m)\u001b[0m\u001b[1;33m:\u001b[0m\u001b[1;33m\u001b[0m\u001b[1;33m\u001b[0m\u001b[0m\n\u001b[0;32m    152\u001b[0m                     \u001b[0merr\u001b[0m \u001b[1;33m=\u001b[0m \u001b[1;34m\"Could not interpret input '{}'\"\u001b[0m\u001b[1;33m.\u001b[0m\u001b[0mformat\u001b[0m\u001b[1;33m(\u001b[0m\u001b[0mvar\u001b[0m\u001b[1;33m)\u001b[0m\u001b[1;33m\u001b[0m\u001b[1;33m\u001b[0m\u001b[0m\n\u001b[1;32m--> 153\u001b[1;33m                     \u001b[1;32mraise\u001b[0m \u001b[0mValueError\u001b[0m\u001b[1;33m(\u001b[0m\u001b[0merr\u001b[0m\u001b[1;33m)\u001b[0m\u001b[1;33m\u001b[0m\u001b[1;33m\u001b[0m\u001b[0m\n\u001b[0m\u001b[0;32m    154\u001b[0m \u001b[1;33m\u001b[0m\u001b[0m\n\u001b[0;32m    155\u001b[0m             \u001b[1;31m# Figure out the plotting orientation\u001b[0m\u001b[1;33m\u001b[0m\u001b[1;33m\u001b[0m\u001b[1;33m\u001b[0m\u001b[0m\n",
      "\u001b[1;31mValueError\u001b[0m: Could not interpret input 'smoker'"
     ]
    }
   ],
   "source": [
    "sns.catplot(x=\"smoker\", kind=\"count\",hue = 'sex', palette=\"pink\", df=data)"
   ]
  },
  {
   "cell_type": "code",
   "execution_count": null,
   "id": "1afd5a80",
   "metadata": {},
   "outputs": [],
   "source": []
  },
  {
   "cell_type": "code",
   "execution_count": 51,
   "id": "66ac22fe",
   "metadata": {},
   "outputs": [
    {
     "data": {
      "text/plain": [
       "count    1331.00\n",
       "mean    13036.78\n",
       "std     11699.36\n",
       "min      1121.87\n",
       "25%      4719.63\n",
       "50%      9301.89\n",
       "75%     16359.17\n",
       "max     49577.66\n",
       "Name: charges, dtype: float64"
      ]
     },
     "execution_count": 51,
     "metadata": {},
     "output_type": "execute_result"
    }
   ],
   "source": [
    "data['charges'].describe()"
   ]
  },
  {
   "cell_type": "code",
   "execution_count": 52,
   "id": "e6ce8eaa",
   "metadata": {},
   "outputs": [],
   "source": [
    "data3a_orginal=data.copy()"
   ]
  },
  {
   "cell_type": "code",
   "execution_count": 57,
   "id": "42890762",
   "metadata": {},
   "outputs": [],
   "source": [
    "from scipy.stats import norm"
   ]
  },
  {
   "cell_type": "code",
   "execution_count": 58,
   "id": "c12e02ea",
   "metadata": {},
   "outputs": [
    {
     "data": {
      "text/plain": [
       "Text(0, 0.5, 'amount')"
      ]
     },
     "execution_count": 58,
     "metadata": {},
     "output_type": "execute_result"
    },
    {
     "data": {
      "image/png": "[encoded data removed]",
      "text/plain": [
       "<Figure size 864x648 with 1 Axes>"
      ]
     },
     "metadata": {
      "needs_background": "light"
     },
     "output_type": "display_data"
    }
   ],
   "source": [
    "plt.figure(figsize=(12,9))\n",
    "sns.distplot(np.log(data['charges']), fit= norm)\n",
    "plt.xlabel(\"charges\")\n",
    "plt.ylabel(\"amount\")"
   ]
  },
  {
   "cell_type": "code",
   "execution_count": 59,
   "id": "a428e295",
   "metadata": {},
   "outputs": [],
   "source": [
    "data['charges']=np.log(data['charges'])# Be carefull at the end of the projerct you should inverse that transformation"
   ]
  },
  {
   "cell_type": "code",
   "execution_count": null,
   "id": "f3db0c31",
   "metadata": {},
   "outputs": [],
   "source": []
  },
  {
   "cell_type": "markdown",
   "id": "7309c37c",
   "metadata": {},
   "source": [
    "### Encoding"
   ]
  },
  {
   "cell_type": "code",
   "execution_count": 60,
   "id": "1850494e",
   "metadata": {},
   "outputs": [
    {
     "data": {
      "text/plain": [
       "Index(['sex', 'smoker', 'region'], dtype='object')"
      ]
     },
     "execution_count": 60,
     "metadata": {},
     "output_type": "execute_result"
    }
   ],
   "source": [
    "#categrocial variables\n",
    "data2_cat=data2.select_dtypes(include='object')\n",
    "data2_cat.columns"
   ]
  },
  {
   "cell_type": "code",
   "execution_count": 61,
   "id": "060d0985",
   "metadata": {},
   "outputs": [
    {
     "data": {
      "text/plain": [
       "male      672\n",
       "female    659\n",
       "Name: sex, dtype: int64"
      ]
     },
     "execution_count": 61,
     "metadata": {},
     "output_type": "execute_result"
    }
   ],
   "source": [
    "data2.sex.value_counts()"
   ]
  },
  {
   "cell_type": "code",
   "execution_count": 62,
   "id": "89acbf4c",
   "metadata": {},
   "outputs": [],
   "source": [
    "data2['sex']=data2['sex'].map({'male':0,'female':1})"
   ]
  },
  {
   "cell_type": "code",
   "execution_count": 71,
   "id": "89924d95",
   "metadata": {},
   "outputs": [
    {
     "data": {
      "text/plain": [
       "no     1064\n",
       "yes     267\n",
       "Name: smoker, dtype: int64"
      ]
     },
     "execution_count": 71,
     "metadata": {},
     "output_type": "execute_result"
    }
   ],
   "source": [
    "data2.smoker.value_counts()"
   ]
  },
  {
   "cell_type": "code",
   "execution_count": 72,
   "id": "0351ae3e",
   "metadata": {},
   "outputs": [],
   "source": [
    "data2['smoker']=data2['smoker'].map({'no':0,'yes':1})"
   ]
  },
  {
   "cell_type": "code",
   "execution_count": 63,
   "id": "752a3007",
   "metadata": {},
   "outputs": [
    {
     "data": {
      "text/plain": [
       "southeast    362\n",
       "southwest    323\n",
       "northeast    323\n",
       "northwest    323\n",
       "Name: region, dtype: int64"
      ]
     },
     "execution_count": 63,
     "metadata": {},
     "output_type": "execute_result"
    }
   ],
   "source": [
    "data2.region.value_counts()"
   ]
  },
  {
   "cell_type": "code",
   "execution_count": 64,
   "id": "3b2f332c",
   "metadata": {},
   "outputs": [
    {
     "data": {
      "text/plain": [
       "(1331, 7)"
      ]
     },
     "execution_count": 64,
     "metadata": {},
     "output_type": "execute_result"
    }
   ],
   "source": [
    "data2.shape"
   ]
  },
  {
   "cell_type": "markdown",
   "id": "d6df3a5a",
   "metadata": {},
   "source": [
    "#### to inverse that transformation"
   ]
  },
  {
   "cell_type": "code",
   "execution_count": 75,
   "id": "98fe0c43",
   "metadata": {},
   "outputs": [
    {
     "data": {
      "text/plain": [
       "<AxesSubplot:xlabel='age', ylabel='Density'>"
      ]
     },
     "execution_count": 75,
     "metadata": {},
     "output_type": "execute_result"
    },
    {
     "data": {
      "image/png": "[encoded data removed]",
      "text/plain": [
       "<Figure size 864x648 with 1 Axes>"
      ]
     },
     "metadata": {
      "needs_background": "light"
     },
     "output_type": "display_data"
    }
   ],
   "source": [
    "from scipy.stats import norm\n",
    "plt.figure(figsize=(12,9))\n",
    "sns.distplot(data['age'], fit= norm)"
   ]
  },
  {
   "cell_type": "code",
   "execution_count": 76,
   "id": "f8894ead",
   "metadata": {},
   "outputs": [
    {
     "ename": "TypeError",
     "evalue": "lmplot() got an unexpected keyword argument 'df'",
     "output_type": "error",
     "traceback": [
      "\u001b[1;31m---------------------------------------------------------------------------\u001b[0m",
      "\u001b[1;31mTypeError\u001b[0m                                 Traceback (most recent call last)",
      "\u001b[1;32m<ipython-input-76-18b99f8105c4>\u001b[0m in \u001b[0;36m<module>\u001b[1;34m\u001b[0m\n\u001b[1;32m----> 1\u001b[1;33m \u001b[0msns\u001b[0m\u001b[1;33m.\u001b[0m\u001b[0mlmplot\u001b[0m\u001b[1;33m(\u001b[0m\u001b[0mx\u001b[0m\u001b[1;33m=\u001b[0m\u001b[1;34m\"age\"\u001b[0m\u001b[1;33m,\u001b[0m \u001b[0my\u001b[0m\u001b[1;33m=\u001b[0m\u001b[1;34m\"charges\"\u001b[0m\u001b[1;33m,\u001b[0m \u001b[0mhue\u001b[0m\u001b[1;33m=\u001b[0m\u001b[1;34m\"smoker\"\u001b[0m\u001b[1;33m,\u001b[0m \u001b[0mdf\u001b[0m\u001b[1;33m=\u001b[0m\u001b[0mdata\u001b[0m\u001b[1;33m,\u001b[0m \u001b[0mpalette\u001b[0m \u001b[1;33m=\u001b[0m \u001b[1;34m'inferno_r'\u001b[0m\u001b[1;33m,\u001b[0m \u001b[0msize\u001b[0m \u001b[1;33m=\u001b[0m \u001b[1;36m7\u001b[0m\u001b[1;33m)\u001b[0m\u001b[1;33m\u001b[0m\u001b[1;33m\u001b[0m\u001b[0m\n\u001b[0m",
      "\u001b[1;32mC:\\ProgramData\\Anaconda3\\lib\\site-packages\\seaborn\\_decorators.py\u001b[0m in \u001b[0;36minner_f\u001b[1;34m(*args, **kwargs)\u001b[0m\n\u001b[0;32m     44\u001b[0m             )\n\u001b[0;32m     45\u001b[0m         \u001b[0mkwargs\u001b[0m\u001b[1;33m.\u001b[0m\u001b[0mupdate\u001b[0m\u001b[1;33m(\u001b[0m\u001b[1;33m{\u001b[0m\u001b[0mk\u001b[0m\u001b[1;33m:\u001b[0m \u001b[0marg\u001b[0m \u001b[1;32mfor\u001b[0m \u001b[0mk\u001b[0m\u001b[1;33m,\u001b[0m \u001b[0marg\u001b[0m \u001b[1;32min\u001b[0m \u001b[0mzip\u001b[0m\u001b[1;33m(\u001b[0m\u001b[0msig\u001b[0m\u001b[1;33m.\u001b[0m\u001b[0mparameters\u001b[0m\u001b[1;33m,\u001b[0m \u001b[0margs\u001b[0m\u001b[1;33m)\u001b[0m\u001b[1;33m}\u001b[0m\u001b[1;33m)\u001b[0m\u001b[1;33m\u001b[0m\u001b[1;33m\u001b[0m\u001b[0m\n\u001b[1;32m---> 46\u001b[1;33m         \u001b[1;32mreturn\u001b[0m \u001b[0mf\u001b[0m\u001b[1;33m(\u001b[0m\u001b[1;33m**\u001b[0m\u001b[0mkwargs\u001b[0m\u001b[1;33m)\u001b[0m\u001b[1;33m\u001b[0m\u001b[1;33m\u001b[0m\u001b[0m\n\u001b[0m\u001b[0;32m     47\u001b[0m     \u001b[1;32mreturn\u001b[0m \u001b[0minner_f\u001b[0m\u001b[1;33m\u001b[0m\u001b[1;33m\u001b[0m\u001b[0m\n\u001b[0;32m     48\u001b[0m \u001b[1;33m\u001b[0m\u001b[0m\n",
      "\u001b[1;31mTypeError\u001b[0m: lmplot() got an unexpected keyword argument 'df'"
     ]
    }
   ],
   "source": [
    "sns.lmplot(x=\"age\", y=\"charges\", hue=\"smoker\", df=data, palette = 'inferno_r', size = 7)"
   ]
  },
  {
   "cell_type": "markdown",
   "id": "381ec56c",
   "metadata": {},
   "source": [
    "### converting categorical variable into dummies"
   ]
  },
  {
   "cell_type": "code",
   "execution_count": 65,
   "id": "6a5dd070",
   "metadata": {},
   "outputs": [
    {
     "data": {
      "text/plain": [
       "(1331, 9)"
      ]
     },
     "execution_count": 65,
     "metadata": {},
     "output_type": "execute_result"
    }
   ],
   "source": [
    "##one hot encoding(convert categorical variable into dummy)\n",
    "\n",
    "data3= pd.get_dummies(data2, drop_first=True)\n",
    "data3.shape"
   ]
  },
  {
   "cell_type": "code",
   "execution_count": 66,
   "id": "ef909d3c",
   "metadata": {},
   "outputs": [],
   "source": [
    "data4=data3"
   ]
  },
  {
   "cell_type": "code",
   "execution_count": 77,
   "id": "e6afdf54",
   "metadata": {},
   "outputs": [],
   "source": [
    "import seaborn as sns"
   ]
  },
  {
   "cell_type": "code",
   "execution_count": 78,
   "id": "0edc626d",
   "metadata": {},
   "outputs": [
    {
     "ename": "ValueError",
     "evalue": "Could not interpret input 'smoker'",
     "output_type": "error",
     "traceback": [
      "\u001b[1;31m---------------------------------------------------------------------------\u001b[0m",
      "\u001b[1;31mValueError\u001b[0m                                Traceback (most recent call last)",
      "\u001b[1;32m<ipython-input-78-f33924908492>\u001b[0m in \u001b[0;36m<module>\u001b[1;34m\u001b[0m\n\u001b[1;32m----> 1\u001b[1;33m \u001b[0msns\u001b[0m\u001b[1;33m.\u001b[0m\u001b[0mcatplot\u001b[0m\u001b[1;33m(\u001b[0m\u001b[0mx\u001b[0m\u001b[1;33m=\u001b[0m\u001b[1;34m\"smoker\"\u001b[0m\u001b[1;33m,\u001b[0m \u001b[0mkind\u001b[0m\u001b[1;33m=\u001b[0m\u001b[1;34m\"count\"\u001b[0m\u001b[1;33m,\u001b[0m\u001b[0mhue\u001b[0m \u001b[1;33m=\u001b[0m \u001b[1;34m'sex'\u001b[0m\u001b[1;33m,\u001b[0m \u001b[0mpalette\u001b[0m\u001b[1;33m=\u001b[0m\u001b[1;34m\"pink\"\u001b[0m\u001b[1;33m,\u001b[0m \u001b[0mdf\u001b[0m\u001b[1;33m=\u001b[0m\u001b[0mdata\u001b[0m\u001b[1;33m)\u001b[0m\u001b[1;33m\u001b[0m\u001b[1;33m\u001b[0m\u001b[0m\n\u001b[0m",
      "\u001b[1;32mC:\\ProgramData\\Anaconda3\\lib\\site-packages\\seaborn\\_decorators.py\u001b[0m in \u001b[0;36minner_f\u001b[1;34m(*args, **kwargs)\u001b[0m\n\u001b[0;32m     44\u001b[0m             )\n\u001b[0;32m     45\u001b[0m         \u001b[0mkwargs\u001b[0m\u001b[1;33m.\u001b[0m\u001b[0mupdate\u001b[0m\u001b[1;33m(\u001b[0m\u001b[1;33m{\u001b[0m\u001b[0mk\u001b[0m\u001b[1;33m:\u001b[0m \u001b[0marg\u001b[0m \u001b[1;32mfor\u001b[0m \u001b[0mk\u001b[0m\u001b[1;33m,\u001b[0m \u001b[0marg\u001b[0m \u001b[1;32min\u001b[0m \u001b[0mzip\u001b[0m\u001b[1;33m(\u001b[0m\u001b[0msig\u001b[0m\u001b[1;33m.\u001b[0m\u001b[0mparameters\u001b[0m\u001b[1;33m,\u001b[0m \u001b[0margs\u001b[0m\u001b[1;33m)\u001b[0m\u001b[1;33m}\u001b[0m\u001b[1;33m)\u001b[0m\u001b[1;33m\u001b[0m\u001b[1;33m\u001b[0m\u001b[0m\n\u001b[1;32m---> 46\u001b[1;33m         \u001b[1;32mreturn\u001b[0m \u001b[0mf\u001b[0m\u001b[1;33m(\u001b[0m\u001b[1;33m**\u001b[0m\u001b[0mkwargs\u001b[0m\u001b[1;33m)\u001b[0m\u001b[1;33m\u001b[0m\u001b[1;33m\u001b[0m\u001b[0m\n\u001b[0m\u001b[0;32m     47\u001b[0m     \u001b[1;32mreturn\u001b[0m \u001b[0minner_f\u001b[0m\u001b[1;33m\u001b[0m\u001b[1;33m\u001b[0m\u001b[0m\n\u001b[0;32m     48\u001b[0m \u001b[1;33m\u001b[0m\u001b[0m\n",
      "\u001b[1;32mC:\\ProgramData\\Anaconda3\\lib\\site-packages\\seaborn\\categorical.py\u001b[0m in \u001b[0;36mcatplot\u001b[1;34m(x, y, hue, data, row, col, col_wrap, estimator, ci, n_boot, units, seed, order, hue_order, row_order, col_order, kind, height, aspect, orient, color, palette, legend, legend_out, sharex, sharey, margin_titles, facet_kws, **kwargs)\u001b[0m\n\u001b[0;32m   3787\u001b[0m     \u001b[0mp\u001b[0m \u001b[1;33m=\u001b[0m \u001b[0m_CategoricalPlotter\u001b[0m\u001b[1;33m(\u001b[0m\u001b[1;33m)\u001b[0m\u001b[1;33m\u001b[0m\u001b[1;33m\u001b[0m\u001b[0m\n\u001b[0;32m   3788\u001b[0m     \u001b[0mp\u001b[0m\u001b[1;33m.\u001b[0m\u001b[0mrequire_numeric\u001b[0m \u001b[1;33m=\u001b[0m \u001b[0mplotter_class\u001b[0m\u001b[1;33m.\u001b[0m\u001b[0mrequire_numeric\u001b[0m\u001b[1;33m\u001b[0m\u001b[1;33m\u001b[0m\u001b[0m\n\u001b[1;32m-> 3789\u001b[1;33m     \u001b[0mp\u001b[0m\u001b[1;33m.\u001b[0m\u001b[0mestablish_variables\u001b[0m\u001b[1;33m(\u001b[0m\u001b[0mx_\u001b[0m\u001b[1;33m,\u001b[0m \u001b[0my_\u001b[0m\u001b[1;33m,\u001b[0m \u001b[0mhue\u001b[0m\u001b[1;33m,\u001b[0m \u001b[0mdata\u001b[0m\u001b[1;33m,\u001b[0m \u001b[0morient\u001b[0m\u001b[1;33m,\u001b[0m \u001b[0morder\u001b[0m\u001b[1;33m,\u001b[0m \u001b[0mhue_order\u001b[0m\u001b[1;33m)\u001b[0m\u001b[1;33m\u001b[0m\u001b[1;33m\u001b[0m\u001b[0m\n\u001b[0m\u001b[0;32m   3790\u001b[0m     if (\n\u001b[0;32m   3791\u001b[0m         \u001b[0morder\u001b[0m \u001b[1;32mis\u001b[0m \u001b[1;32mnot\u001b[0m \u001b[1;32mNone\u001b[0m\u001b[1;33m\u001b[0m\u001b[1;33m\u001b[0m\u001b[0m\n",
      "\u001b[1;32mC:\\ProgramData\\Anaconda3\\lib\\site-packages\\seaborn\\categorical.py\u001b[0m in \u001b[0;36mestablish_variables\u001b[1;34m(self, x, y, hue, data, orient, order, hue_order, units)\u001b[0m\n\u001b[0;32m    151\u001b[0m                 \u001b[1;32mif\u001b[0m \u001b[0misinstance\u001b[0m\u001b[1;33m(\u001b[0m\u001b[0mvar\u001b[0m\u001b[1;33m,\u001b[0m \u001b[0mstr\u001b[0m\u001b[1;33m)\u001b[0m\u001b[1;33m:\u001b[0m\u001b[1;33m\u001b[0m\u001b[1;33m\u001b[0m\u001b[0m\n\u001b[0;32m    152\u001b[0m                     \u001b[0merr\u001b[0m \u001b[1;33m=\u001b[0m \u001b[1;34m\"Could not interpret input '{}'\"\u001b[0m\u001b[1;33m.\u001b[0m\u001b[0mformat\u001b[0m\u001b[1;33m(\u001b[0m\u001b[0mvar\u001b[0m\u001b[1;33m)\u001b[0m\u001b[1;33m\u001b[0m\u001b[1;33m\u001b[0m\u001b[0m\n\u001b[1;32m--> 153\u001b[1;33m                     \u001b[1;32mraise\u001b[0m \u001b[0mValueError\u001b[0m\u001b[1;33m(\u001b[0m\u001b[0merr\u001b[0m\u001b[1;33m)\u001b[0m\u001b[1;33m\u001b[0m\u001b[1;33m\u001b[0m\u001b[0m\n\u001b[0m\u001b[0;32m    154\u001b[0m \u001b[1;33m\u001b[0m\u001b[0m\n\u001b[0;32m    155\u001b[0m             \u001b[1;31m# Figure out the plotting orientation\u001b[0m\u001b[1;33m\u001b[0m\u001b[1;33m\u001b[0m\u001b[1;33m\u001b[0m\u001b[0m\n",
      "\u001b[1;31mValueError\u001b[0m: Could not interpret input 'smoker'"
     ]
    }
   ],
   "source": [
    "sns.catplot(x=\"smoker\", kind=\"count\",hue = 'sex', palette=\"pink\", df=data)"
   ]
  },
  {
   "cell_type": "markdown",
   "id": "daf04812",
   "metadata": {},
   "source": [
    "## OLS Regression Model"
   ]
  },
  {
   "cell_type": "code",
   "execution_count": 70,
   "id": "91812d87",
   "metadata": {},
   "outputs": [
    {
     "ename": "PatsyError",
     "evalue": "Error evaluating factor: NameError: name 'smoker' is not defined\n    smoker ~ charges\n    ^^^^^^",
     "output_type": "error",
     "traceback": [
      "\u001b[1;31m---------------------------------------------------------------------------\u001b[0m",
      "\u001b[1;31mNameError\u001b[0m                                 Traceback (most recent call last)",
      "\u001b[1;32mC:\\ProgramData\\Anaconda3\\lib\\site-packages\\patsy\\compat.py\u001b[0m in \u001b[0;36mcall_and_wrap_exc\u001b[1;34m(msg, origin, f, *args, **kwargs)\u001b[0m\n\u001b[0;32m     35\u001b[0m     \u001b[1;32mtry\u001b[0m\u001b[1;33m:\u001b[0m\u001b[1;33m\u001b[0m\u001b[1;33m\u001b[0m\u001b[0m\n\u001b[1;32m---> 36\u001b[1;33m         \u001b[1;32mreturn\u001b[0m \u001b[0mf\u001b[0m\u001b[1;33m(\u001b[0m\u001b[1;33m*\u001b[0m\u001b[0margs\u001b[0m\u001b[1;33m,\u001b[0m \u001b[1;33m**\u001b[0m\u001b[0mkwargs\u001b[0m\u001b[1;33m)\u001b[0m\u001b[1;33m\u001b[0m\u001b[1;33m\u001b[0m\u001b[0m\n\u001b[0m\u001b[0;32m     37\u001b[0m     \u001b[1;32mexcept\u001b[0m \u001b[0mException\u001b[0m \u001b[1;32mas\u001b[0m \u001b[0me\u001b[0m\u001b[1;33m:\u001b[0m\u001b[1;33m\u001b[0m\u001b[1;33m\u001b[0m\u001b[0m\n",
      "\u001b[1;32mC:\\ProgramData\\Anaconda3\\lib\\site-packages\\patsy\\eval.py\u001b[0m in \u001b[0;36meval\u001b[1;34m(self, expr, source_name, inner_namespace)\u001b[0m\n\u001b[0;32m    164\u001b[0m         \u001b[0mcode\u001b[0m \u001b[1;33m=\u001b[0m \u001b[0mcompile\u001b[0m\u001b[1;33m(\u001b[0m\u001b[0mexpr\u001b[0m\u001b[1;33m,\u001b[0m \u001b[0msource_name\u001b[0m\u001b[1;33m,\u001b[0m \u001b[1;34m\"eval\"\u001b[0m\u001b[1;33m,\u001b[0m \u001b[0mself\u001b[0m\u001b[1;33m.\u001b[0m\u001b[0mflags\u001b[0m\u001b[1;33m,\u001b[0m \u001b[1;32mFalse\u001b[0m\u001b[1;33m)\u001b[0m\u001b[1;33m\u001b[0m\u001b[1;33m\u001b[0m\u001b[0m\n\u001b[1;32m--> 165\u001b[1;33m         return eval(code, {}, VarLookupDict([inner_namespace]\n\u001b[0m\u001b[0;32m    166\u001b[0m                                             + self._namespaces))\n",
      "\u001b[1;32m<string>\u001b[0m in \u001b[0;36m<module>\u001b[1;34m\u001b[0m\n",
      "\u001b[1;31mNameError\u001b[0m: name 'smoker' is not defined",
      "\nThe above exception was the direct cause of the following exception:\n",
      "\u001b[1;31mPatsyError\u001b[0m                                Traceback (most recent call last)",
      "\u001b[1;32m<ipython-input-70-6e6e4928c23c>\u001b[0m in \u001b[0;36m<module>\u001b[1;34m\u001b[0m\n\u001b[0;32m      3\u001b[0m \u001b[1;33m\u001b[0m\u001b[0m\n\u001b[0;32m      4\u001b[0m \u001b[1;33m\u001b[0m\u001b[0m\n\u001b[1;32m----> 5\u001b[1;33m \u001b[0msm\u001b[0m \u001b[1;33m=\u001b[0m \u001b[0mols\u001b[0m\u001b[1;33m(\u001b[0m\u001b[1;34m\"smoker ~ charges\"\u001b[0m\u001b[1;33m,\u001b[0m\u001b[0mdata\u001b[0m\u001b[1;33m=\u001b[0m\u001b[0mdata4\u001b[0m\u001b[1;33m)\u001b[0m\u001b[1;33m.\u001b[0m\u001b[0mfit\u001b[0m\u001b[1;33m(\u001b[0m\u001b[1;33m)\u001b[0m\u001b[1;33m\u001b[0m\u001b[1;33m\u001b[0m\u001b[0m\n\u001b[0m\u001b[0;32m      6\u001b[0m \u001b[0mprint\u001b[0m\u001b[1;33m(\u001b[0m\u001b[0msm\u001b[0m\u001b[1;33m.\u001b[0m\u001b[0msummary\u001b[0m\u001b[1;33m(\u001b[0m\u001b[1;33m)\u001b[0m\u001b[1;33m)\u001b[0m\u001b[1;33m\u001b[0m\u001b[1;33m\u001b[0m\u001b[0m\n",
      "\u001b[1;32mC:\\ProgramData\\Anaconda3\\lib\\site-packages\\statsmodels\\base\\model.py\u001b[0m in \u001b[0;36mfrom_formula\u001b[1;34m(cls, formula, data, subset, drop_cols, *args, **kwargs)\u001b[0m\n\u001b[0;32m    167\u001b[0m             \u001b[0mmissing\u001b[0m \u001b[1;33m=\u001b[0m \u001b[1;34m'raise'\u001b[0m\u001b[1;33m\u001b[0m\u001b[1;33m\u001b[0m\u001b[0m\n\u001b[0;32m    168\u001b[0m \u001b[1;33m\u001b[0m\u001b[0m\n\u001b[1;32m--> 169\u001b[1;33m         tmp = handle_formula_data(data, None, formula, depth=eval_env,\n\u001b[0m\u001b[0;32m    170\u001b[0m                                   missing=missing)\n\u001b[0;32m    171\u001b[0m         \u001b[1;33m(\u001b[0m\u001b[1;33m(\u001b[0m\u001b[0mendog\u001b[0m\u001b[1;33m,\u001b[0m \u001b[0mexog\u001b[0m\u001b[1;33m)\u001b[0m\u001b[1;33m,\u001b[0m \u001b[0mmissing_idx\u001b[0m\u001b[1;33m,\u001b[0m \u001b[0mdesign_info\u001b[0m\u001b[1;33m)\u001b[0m \u001b[1;33m=\u001b[0m \u001b[0mtmp\u001b[0m\u001b[1;33m\u001b[0m\u001b[1;33m\u001b[0m\u001b[0m\n",
      "\u001b[1;32mC:\\ProgramData\\Anaconda3\\lib\\site-packages\\statsmodels\\formula\\formulatools.py\u001b[0m in \u001b[0;36mhandle_formula_data\u001b[1;34m(Y, X, formula, depth, missing)\u001b[0m\n\u001b[0;32m     61\u001b[0m     \u001b[1;32melse\u001b[0m\u001b[1;33m:\u001b[0m\u001b[1;33m\u001b[0m\u001b[1;33m\u001b[0m\u001b[0m\n\u001b[0;32m     62\u001b[0m         \u001b[1;32mif\u001b[0m \u001b[0mdata_util\u001b[0m\u001b[1;33m.\u001b[0m\u001b[0m_is_using_pandas\u001b[0m\u001b[1;33m(\u001b[0m\u001b[0mY\u001b[0m\u001b[1;33m,\u001b[0m \u001b[1;32mNone\u001b[0m\u001b[1;33m)\u001b[0m\u001b[1;33m:\u001b[0m\u001b[1;33m\u001b[0m\u001b[1;33m\u001b[0m\u001b[0m\n\u001b[1;32m---> 63\u001b[1;33m             result = dmatrices(formula, Y, depth, return_type='dataframe',\n\u001b[0m\u001b[0;32m     64\u001b[0m                                NA_action=na_action)\n\u001b[0;32m     65\u001b[0m         \u001b[1;32melse\u001b[0m\u001b[1;33m:\u001b[0m\u001b[1;33m\u001b[0m\u001b[1;33m\u001b[0m\u001b[0m\n",
      "\u001b[1;32mC:\\ProgramData\\Anaconda3\\lib\\site-packages\\patsy\\highlevel.py\u001b[0m in \u001b[0;36mdmatrices\u001b[1;34m(formula_like, data, eval_env, NA_action, return_type)\u001b[0m\n\u001b[0;32m    307\u001b[0m     \"\"\"\n\u001b[0;32m    308\u001b[0m     \u001b[0meval_env\u001b[0m \u001b[1;33m=\u001b[0m \u001b[0mEvalEnvironment\u001b[0m\u001b[1;33m.\u001b[0m\u001b[0mcapture\u001b[0m\u001b[1;33m(\u001b[0m\u001b[0meval_env\u001b[0m\u001b[1;33m,\u001b[0m \u001b[0mreference\u001b[0m\u001b[1;33m=\u001b[0m\u001b[1;36m1\u001b[0m\u001b[1;33m)\u001b[0m\u001b[1;33m\u001b[0m\u001b[1;33m\u001b[0m\u001b[0m\n\u001b[1;32m--> 309\u001b[1;33m     (lhs, rhs) = _do_highlevel_design(formula_like, data, eval_env,\n\u001b[0m\u001b[0;32m    310\u001b[0m                                       NA_action, return_type)\n\u001b[0;32m    311\u001b[0m     \u001b[1;32mif\u001b[0m \u001b[0mlhs\u001b[0m\u001b[1;33m.\u001b[0m\u001b[0mshape\u001b[0m\u001b[1;33m[\u001b[0m\u001b[1;36m1\u001b[0m\u001b[1;33m]\u001b[0m \u001b[1;33m==\u001b[0m \u001b[1;36m0\u001b[0m\u001b[1;33m:\u001b[0m\u001b[1;33m\u001b[0m\u001b[1;33m\u001b[0m\u001b[0m\n",
      "\u001b[1;32mC:\\ProgramData\\Anaconda3\\lib\\site-packages\\patsy\\highlevel.py\u001b[0m in \u001b[0;36m_do_highlevel_design\u001b[1;34m(formula_like, data, eval_env, NA_action, return_type)\u001b[0m\n\u001b[0;32m    162\u001b[0m     \u001b[1;32mdef\u001b[0m \u001b[0mdata_iter_maker\u001b[0m\u001b[1;33m(\u001b[0m\u001b[1;33m)\u001b[0m\u001b[1;33m:\u001b[0m\u001b[1;33m\u001b[0m\u001b[1;33m\u001b[0m\u001b[0m\n\u001b[0;32m    163\u001b[0m         \u001b[1;32mreturn\u001b[0m \u001b[0miter\u001b[0m\u001b[1;33m(\u001b[0m\u001b[1;33m[\u001b[0m\u001b[0mdata\u001b[0m\u001b[1;33m]\u001b[0m\u001b[1;33m)\u001b[0m\u001b[1;33m\u001b[0m\u001b[1;33m\u001b[0m\u001b[0m\n\u001b[1;32m--> 164\u001b[1;33m     design_infos = _try_incr_builders(formula_like, data_iter_maker, eval_env,\n\u001b[0m\u001b[0;32m    165\u001b[0m                                       NA_action)\n\u001b[0;32m    166\u001b[0m     \u001b[1;32mif\u001b[0m \u001b[0mdesign_infos\u001b[0m \u001b[1;32mis\u001b[0m \u001b[1;32mnot\u001b[0m \u001b[1;32mNone\u001b[0m\u001b[1;33m:\u001b[0m\u001b[1;33m\u001b[0m\u001b[1;33m\u001b[0m\u001b[0m\n",
      "\u001b[1;32mC:\\ProgramData\\Anaconda3\\lib\\site-packages\\patsy\\highlevel.py\u001b[0m in \u001b[0;36m_try_incr_builders\u001b[1;34m(formula_like, data_iter_maker, eval_env, NA_action)\u001b[0m\n\u001b[0;32m     64\u001b[0m     \u001b[1;32mif\u001b[0m \u001b[0misinstance\u001b[0m\u001b[1;33m(\u001b[0m\u001b[0mformula_like\u001b[0m\u001b[1;33m,\u001b[0m \u001b[0mModelDesc\u001b[0m\u001b[1;33m)\u001b[0m\u001b[1;33m:\u001b[0m\u001b[1;33m\u001b[0m\u001b[1;33m\u001b[0m\u001b[0m\n\u001b[0;32m     65\u001b[0m         \u001b[1;32massert\u001b[0m \u001b[0misinstance\u001b[0m\u001b[1;33m(\u001b[0m\u001b[0meval_env\u001b[0m\u001b[1;33m,\u001b[0m \u001b[0mEvalEnvironment\u001b[0m\u001b[1;33m)\u001b[0m\u001b[1;33m\u001b[0m\u001b[1;33m\u001b[0m\u001b[0m\n\u001b[1;32m---> 66\u001b[1;33m         return design_matrix_builders([formula_like.lhs_termlist,\n\u001b[0m\u001b[0;32m     67\u001b[0m                                        formula_like.rhs_termlist],\n\u001b[0;32m     68\u001b[0m                                       \u001b[0mdata_iter_maker\u001b[0m\u001b[1;33m,\u001b[0m\u001b[1;33m\u001b[0m\u001b[1;33m\u001b[0m\u001b[0m\n",
      "\u001b[1;32mC:\\ProgramData\\Anaconda3\\lib\\site-packages\\patsy\\build.py\u001b[0m in \u001b[0;36mdesign_matrix_builders\u001b[1;34m(termlists, data_iter_maker, eval_env, NA_action)\u001b[0m\n\u001b[0;32m    691\u001b[0m     \u001b[1;31m# on some data to find out what type of data they return.\u001b[0m\u001b[1;33m\u001b[0m\u001b[1;33m\u001b[0m\u001b[1;33m\u001b[0m\u001b[0m\n\u001b[0;32m    692\u001b[0m     (num_column_counts,\n\u001b[1;32m--> 693\u001b[1;33m      \u001b[0mcat_levels_contrasts\u001b[0m\u001b[1;33m)\u001b[0m \u001b[1;33m=\u001b[0m \u001b[0m_examine_factor_types\u001b[0m\u001b[1;33m(\u001b[0m\u001b[0mall_factors\u001b[0m\u001b[1;33m,\u001b[0m\u001b[1;33m\u001b[0m\u001b[1;33m\u001b[0m\u001b[0m\n\u001b[0m\u001b[0;32m    694\u001b[0m                                                    \u001b[0mfactor_states\u001b[0m\u001b[1;33m,\u001b[0m\u001b[1;33m\u001b[0m\u001b[1;33m\u001b[0m\u001b[0m\n\u001b[0;32m    695\u001b[0m                                                    \u001b[0mdata_iter_maker\u001b[0m\u001b[1;33m,\u001b[0m\u001b[1;33m\u001b[0m\u001b[1;33m\u001b[0m\u001b[0m\n",
      "\u001b[1;32mC:\\ProgramData\\Anaconda3\\lib\\site-packages\\patsy\\build.py\u001b[0m in \u001b[0;36m_examine_factor_types\u001b[1;34m(factors, factor_states, data_iter_maker, NA_action)\u001b[0m\n\u001b[0;32m    441\u001b[0m     \u001b[1;32mfor\u001b[0m \u001b[0mdata\u001b[0m \u001b[1;32min\u001b[0m \u001b[0mdata_iter_maker\u001b[0m\u001b[1;33m(\u001b[0m\u001b[1;33m)\u001b[0m\u001b[1;33m:\u001b[0m\u001b[1;33m\u001b[0m\u001b[1;33m\u001b[0m\u001b[0m\n\u001b[0;32m    442\u001b[0m         \u001b[1;32mfor\u001b[0m \u001b[0mfactor\u001b[0m \u001b[1;32min\u001b[0m \u001b[0mlist\u001b[0m\u001b[1;33m(\u001b[0m\u001b[0mexamine_needed\u001b[0m\u001b[1;33m)\u001b[0m\u001b[1;33m:\u001b[0m\u001b[1;33m\u001b[0m\u001b[1;33m\u001b[0m\u001b[0m\n\u001b[1;32m--> 443\u001b[1;33m             \u001b[0mvalue\u001b[0m \u001b[1;33m=\u001b[0m \u001b[0mfactor\u001b[0m\u001b[1;33m.\u001b[0m\u001b[0meval\u001b[0m\u001b[1;33m(\u001b[0m\u001b[0mfactor_states\u001b[0m\u001b[1;33m[\u001b[0m\u001b[0mfactor\u001b[0m\u001b[1;33m]\u001b[0m\u001b[1;33m,\u001b[0m \u001b[0mdata\u001b[0m\u001b[1;33m)\u001b[0m\u001b[1;33m\u001b[0m\u001b[1;33m\u001b[0m\u001b[0m\n\u001b[0m\u001b[0;32m    444\u001b[0m             \u001b[1;32mif\u001b[0m \u001b[0mfactor\u001b[0m \u001b[1;32min\u001b[0m \u001b[0mcat_sniffers\u001b[0m \u001b[1;32mor\u001b[0m \u001b[0mguess_categorical\u001b[0m\u001b[1;33m(\u001b[0m\u001b[0mvalue\u001b[0m\u001b[1;33m)\u001b[0m\u001b[1;33m:\u001b[0m\u001b[1;33m\u001b[0m\u001b[1;33m\u001b[0m\u001b[0m\n\u001b[0;32m    445\u001b[0m                 \u001b[1;32mif\u001b[0m \u001b[0mfactor\u001b[0m \u001b[1;32mnot\u001b[0m \u001b[1;32min\u001b[0m \u001b[0mcat_sniffers\u001b[0m\u001b[1;33m:\u001b[0m\u001b[1;33m\u001b[0m\u001b[1;33m\u001b[0m\u001b[0m\n",
      "\u001b[1;32mC:\\ProgramData\\Anaconda3\\lib\\site-packages\\patsy\\eval.py\u001b[0m in \u001b[0;36meval\u001b[1;34m(self, memorize_state, data)\u001b[0m\n\u001b[0;32m    562\u001b[0m \u001b[1;33m\u001b[0m\u001b[0m\n\u001b[0;32m    563\u001b[0m     \u001b[1;32mdef\u001b[0m \u001b[0meval\u001b[0m\u001b[1;33m(\u001b[0m\u001b[0mself\u001b[0m\u001b[1;33m,\u001b[0m \u001b[0mmemorize_state\u001b[0m\u001b[1;33m,\u001b[0m \u001b[0mdata\u001b[0m\u001b[1;33m)\u001b[0m\u001b[1;33m:\u001b[0m\u001b[1;33m\u001b[0m\u001b[1;33m\u001b[0m\u001b[0m\n\u001b[1;32m--> 564\u001b[1;33m         return self._eval(memorize_state[\"eval_code\"],\n\u001b[0m\u001b[0;32m    565\u001b[0m                           \u001b[0mmemorize_state\u001b[0m\u001b[1;33m,\u001b[0m\u001b[1;33m\u001b[0m\u001b[1;33m\u001b[0m\u001b[0m\n\u001b[0;32m    566\u001b[0m                           data)\n",
      "\u001b[1;32mC:\\ProgramData\\Anaconda3\\lib\\site-packages\\patsy\\eval.py\u001b[0m in \u001b[0;36m_eval\u001b[1;34m(self, code, memorize_state, data)\u001b[0m\n\u001b[0;32m    545\u001b[0m     \u001b[1;32mdef\u001b[0m \u001b[0m_eval\u001b[0m\u001b[1;33m(\u001b[0m\u001b[0mself\u001b[0m\u001b[1;33m,\u001b[0m \u001b[0mcode\u001b[0m\u001b[1;33m,\u001b[0m \u001b[0mmemorize_state\u001b[0m\u001b[1;33m,\u001b[0m \u001b[0mdata\u001b[0m\u001b[1;33m)\u001b[0m\u001b[1;33m:\u001b[0m\u001b[1;33m\u001b[0m\u001b[1;33m\u001b[0m\u001b[0m\n\u001b[0;32m    546\u001b[0m         \u001b[0minner_namespace\u001b[0m \u001b[1;33m=\u001b[0m \u001b[0mVarLookupDict\u001b[0m\u001b[1;33m(\u001b[0m\u001b[1;33m[\u001b[0m\u001b[0mdata\u001b[0m\u001b[1;33m,\u001b[0m \u001b[0mmemorize_state\u001b[0m\u001b[1;33m[\u001b[0m\u001b[1;34m\"transforms\"\u001b[0m\u001b[1;33m]\u001b[0m\u001b[1;33m]\u001b[0m\u001b[1;33m)\u001b[0m\u001b[1;33m\u001b[0m\u001b[1;33m\u001b[0m\u001b[0m\n\u001b[1;32m--> 547\u001b[1;33m         return call_and_wrap_exc(\"Error evaluating factor\",\n\u001b[0m\u001b[0;32m    548\u001b[0m                                  \u001b[0mself\u001b[0m\u001b[1;33m,\u001b[0m\u001b[1;33m\u001b[0m\u001b[1;33m\u001b[0m\u001b[0m\n\u001b[0;32m    549\u001b[0m                                  \u001b[0mmemorize_state\u001b[0m\u001b[1;33m[\u001b[0m\u001b[1;34m\"eval_env\"\u001b[0m\u001b[1;33m]\u001b[0m\u001b[1;33m.\u001b[0m\u001b[0meval\u001b[0m\u001b[1;33m,\u001b[0m\u001b[1;33m\u001b[0m\u001b[1;33m\u001b[0m\u001b[0m\n",
      "\u001b[1;32mC:\\ProgramData\\Anaconda3\\lib\\site-packages\\patsy\\compat.py\u001b[0m in \u001b[0;36mcall_and_wrap_exc\u001b[1;34m(msg, origin, f, *args, **kwargs)\u001b[0m\n\u001b[0;32m     41\u001b[0m                                  origin)\n\u001b[0;32m     42\u001b[0m             \u001b[1;31m# Use 'exec' to hide this syntax from the Python 2 parser:\u001b[0m\u001b[1;33m\u001b[0m\u001b[1;33m\u001b[0m\u001b[1;33m\u001b[0m\u001b[0m\n\u001b[1;32m---> 43\u001b[1;33m             \u001b[0mexec\u001b[0m\u001b[1;33m(\u001b[0m\u001b[1;34m\"raise new_exc from e\"\u001b[0m\u001b[1;33m)\u001b[0m\u001b[1;33m\u001b[0m\u001b[1;33m\u001b[0m\u001b[0m\n\u001b[0m\u001b[0;32m     44\u001b[0m         \u001b[1;32melse\u001b[0m\u001b[1;33m:\u001b[0m\u001b[1;33m\u001b[0m\u001b[1;33m\u001b[0m\u001b[0m\n\u001b[0;32m     45\u001b[0m             \u001b[1;31m# In python 2, we just let the original exception escape -- better\u001b[0m\u001b[1;33m\u001b[0m\u001b[1;33m\u001b[0m\u001b[1;33m\u001b[0m\u001b[0m\n",
      "\u001b[1;32mC:\\ProgramData\\Anaconda3\\lib\\site-packages\\patsy\\compat.py\u001b[0m in \u001b[0;36m<module>\u001b[1;34m\u001b[0m\n",
      "\u001b[1;31mPatsyError\u001b[0m: Error evaluating factor: NameError: name 'smoker' is not defined\n    smoker ~ charges\n    ^^^^^^"
     ]
    }
   ],
   "source": [
    "import statsmodels.api as sm\n",
    "from statsmodels.formula.api import ols\n",
    "\n",
    "\n",
    "sm = ols(\"smoker ~ charges\",data=data4).fit()\n",
    "print(sm.summary())"
   ]
  },
  {
   "cell_type": "markdown",
   "id": "027f376b",
   "metadata": {},
   "source": [
    "#### Correlation"
   ]
  },
  {
   "cell_type": "code",
   "execution_count": 82,
   "id": "f020f93b",
   "metadata": {},
   "outputs": [
    {
     "data": {
      "text/html": [
       "<div>\n",
       "<style scoped>\n",
       "    .dataframe tbody tr th:only-of-type {\n",
       "        vertical-align: middle;\n",
       "    }\n",
       "\n",
       "    .dataframe tbody tr th {\n",
       "        vertical-align: top;\n",
       "    }\n",
       "\n",
       "    .dataframe thead th {\n",
       "        text-align: right;\n",
       "    }\n",
       "</style>\n",
       "<table border=\"1\" class=\"dataframe\">\n",
       "  <thead>\n",
       "    <tr style=\"text-align: right;\">\n",
       "      <th></th>\n",
       "      <th>age</th>\n",
       "      <th>sex</th>\n",
       "      <th>bmi</th>\n",
       "      <th>children</th>\n",
       "      <th>charges</th>\n",
       "      <th>smoker_yes</th>\n",
       "      <th>region_northwest</th>\n",
       "      <th>region_southeast</th>\n",
       "      <th>region_southwest</th>\n",
       "    </tr>\n",
       "  </thead>\n",
       "  <tbody>\n",
       "    <tr>\n",
       "      <th>age</th>\n",
       "      <td>1.00</td>\n",
       "      <td>0.02</td>\n",
       "      <td>0.11</td>\n",
       "      <td>0.04</td>\n",
       "      <td>0.53</td>\n",
       "      <td>-0.03</td>\n",
       "      <td>-0.00</td>\n",
       "      <td>-0.01</td>\n",
       "      <td>0.01</td>\n",
       "    </tr>\n",
       "    <tr>\n",
       "      <th>sex</th>\n",
       "      <td>0.02</td>\n",
       "      <td>1.00</td>\n",
       "      <td>-0.05</td>\n",
       "      <td>-0.02</td>\n",
       "      <td>-0.00</td>\n",
       "      <td>-0.08</td>\n",
       "      <td>0.01</td>\n",
       "      <td>-0.02</td>\n",
       "      <td>0.01</td>\n",
       "    </tr>\n",
       "    <tr>\n",
       "      <th>bmi</th>\n",
       "      <td>0.11</td>\n",
       "      <td>-0.05</td>\n",
       "      <td>1.00</td>\n",
       "      <td>0.01</td>\n",
       "      <td>0.12</td>\n",
       "      <td>-0.01</td>\n",
       "      <td>-0.14</td>\n",
       "      <td>0.27</td>\n",
       "      <td>-0.01</td>\n",
       "    </tr>\n",
       "    <tr>\n",
       "      <th>children</th>\n",
       "      <td>0.04</td>\n",
       "      <td>-0.02</td>\n",
       "      <td>0.01</td>\n",
       "      <td>1.00</td>\n",
       "      <td>0.17</td>\n",
       "      <td>0.01</td>\n",
       "      <td>0.02</td>\n",
       "      <td>-0.02</td>\n",
       "      <td>0.02</td>\n",
       "    </tr>\n",
       "    <tr>\n",
       "      <th>charges</th>\n",
       "      <td>0.53</td>\n",
       "      <td>-0.00</td>\n",
       "      <td>0.12</td>\n",
       "      <td>0.17</td>\n",
       "      <td>1.00</td>\n",
       "      <td>0.66</td>\n",
       "      <td>-0.02</td>\n",
       "      <td>0.02</td>\n",
       "      <td>-0.04</td>\n",
       "    </tr>\n",
       "    <tr>\n",
       "      <th>smoker_yes</th>\n",
       "      <td>-0.03</td>\n",
       "      <td>-0.08</td>\n",
       "      <td>-0.01</td>\n",
       "      <td>0.01</td>\n",
       "      <td>0.66</td>\n",
       "      <td>1.00</td>\n",
       "      <td>-0.04</td>\n",
       "      <td>0.07</td>\n",
       "      <td>-0.04</td>\n",
       "    </tr>\n",
       "    <tr>\n",
       "      <th>region_northwest</th>\n",
       "      <td>-0.00</td>\n",
       "      <td>0.01</td>\n",
       "      <td>-0.14</td>\n",
       "      <td>0.02</td>\n",
       "      <td>-0.02</td>\n",
       "      <td>-0.04</td>\n",
       "      <td>1.00</td>\n",
       "      <td>-0.35</td>\n",
       "      <td>-0.32</td>\n",
       "    </tr>\n",
       "    <tr>\n",
       "      <th>region_southeast</th>\n",
       "      <td>-0.01</td>\n",
       "      <td>-0.02</td>\n",
       "      <td>0.27</td>\n",
       "      <td>-0.02</td>\n",
       "      <td>0.02</td>\n",
       "      <td>0.07</td>\n",
       "      <td>-0.35</td>\n",
       "      <td>1.00</td>\n",
       "      <td>-0.35</td>\n",
       "    </tr>\n",
       "    <tr>\n",
       "      <th>region_southwest</th>\n",
       "      <td>0.01</td>\n",
       "      <td>0.01</td>\n",
       "      <td>-0.01</td>\n",
       "      <td>0.02</td>\n",
       "      <td>-0.04</td>\n",
       "      <td>-0.04</td>\n",
       "      <td>-0.32</td>\n",
       "      <td>-0.35</td>\n",
       "      <td>1.00</td>\n",
       "    </tr>\n",
       "  </tbody>\n",
       "</table>\n",
       "</div>"
      ],
      "text/plain": [
       "                   age   sex   bmi  children  charges  smoker_yes  \\\n",
       "age               1.00  0.02  0.11      0.04     0.53       -0.03   \n",
       "sex               0.02  1.00 -0.05     -0.02    -0.00       -0.08   \n",
       "bmi               0.11 -0.05  1.00      0.01     0.12       -0.01   \n",
       "children          0.04 -0.02  0.01      1.00     0.17        0.01   \n",
       "charges           0.53 -0.00  0.12      0.17     1.00        0.66   \n",
       "smoker_yes       -0.03 -0.08 -0.01      0.01     0.66        1.00   \n",
       "region_northwest -0.00  0.01 -0.14      0.02    -0.02       -0.04   \n",
       "region_southeast -0.01 -0.02  0.27     -0.02     0.02        0.07   \n",
       "region_southwest  0.01  0.01 -0.01      0.02    -0.04       -0.04   \n",
       "\n",
       "                  region_northwest  region_southeast  region_southwest  \n",
       "age                          -0.00             -0.01              0.01  \n",
       "sex                           0.01             -0.02              0.01  \n",
       "bmi                          -0.14              0.27             -0.01  \n",
       "children                      0.02             -0.02              0.02  \n",
       "charges                      -0.02              0.02             -0.04  \n",
       "smoker_yes                   -0.04              0.07             -0.04  \n",
       "region_northwest              1.00             -0.35             -0.32  \n",
       "region_southeast             -0.35              1.00             -0.35  \n",
       "region_southwest             -0.32             -0.35              1.00  "
      ]
     },
     "execution_count": 82,
     "metadata": {},
     "output_type": "execute_result"
    }
   ],
   "source": [
    "data4.corr()"
   ]
  },
  {
   "cell_type": "code",
   "execution_count": 83,
   "id": "3908caf9",
   "metadata": {},
   "outputs": [
    {
     "data": {
      "text/plain": [
       "<AxesSubplot:>"
      ]
     },
     "execution_count": 83,
     "metadata": {},
     "output_type": "execute_result"
    },
    {
     "data": {
      "image/png": "[encoded data removed]",
      "text/plain": [
       "<Figure size 1296x864 with 2 Axes>"
      ]
     },
     "metadata": {
      "needs_background": "light"
     },
     "output_type": "display_data"
    }
   ],
   "source": [
    "corr=data4.corr()\n",
    "f, ax = plt.subplots(figsize=(18, 12))\n",
    "sns.heatmap(corr,vmax=1, vmin=0.3, square=True, annot=True)"
   ]
  },
  {
   "cell_type": "code",
   "execution_count": 84,
   "id": "88cc27d4",
   "metadata": {},
   "outputs": [
    {
     "data": {
      "image/png": "[encoded data removed]",
      "text/plain": [
       "<Figure size 1296x864 with 2 Axes>"
      ]
     },
     "metadata": {},
     "output_type": "display_data"
    }
   ],
   "source": [
    "#saleprice correlation matrix(zoomed heatmap style)\n",
    "k = 5 #number of variables for heatmap\n",
    "cols = corr.nlargest(k, 'charges')['charges'].index\n",
    "cm = np.corrcoef(data4[cols].values.T)\n",
    "sns.set(font_scale=1.25)\n",
    "f, ax = plt.subplots(figsize=(18, 12))\n",
    "hm = sns.heatmap(cm, cbar=True, annot=True, square=True, fmt='.2f', \n",
    "    annot_kws={'size': 10}, yticklabels=cols.values, xticklabels=cols.values)"
   ]
  },
  {
   "cell_type": "code",
   "execution_count": 85,
   "id": "12251368",
   "metadata": {},
   "outputs": [
    {
     "data": {
      "text/plain": [
       "charges     smoker_yes   0.66\n",
       "smoker_yes  charges      0.66\n",
       "dtype: float64"
      ]
     },
     "execution_count": 85,
     "metadata": {},
     "output_type": "execute_result"
    }
   ],
   "source": [
    "s = corr.unstack()\n",
    "s[(abs(s)>0.6) & (abs(s) < 1)]"
   ]
  },
  {
   "cell_type": "markdown",
   "id": "c288688c",
   "metadata": {},
   "source": [
    "### so here a  strong correlation is only observed with the smoking status of the patient"
   ]
  },
  {
   "cell_type": "code",
   "execution_count": 86,
   "id": "cdfea2a7",
   "metadata": {},
   "outputs": [],
   "source": [
    "def remove_collinear_features(data, threshold):\n",
    "    '''\n",
    "    Objective:\n",
    "        Remove collinear features in a dataframe with a correlation coefficient\n",
    "        greater than the threshold. Removing collinear features can help a model\n",
    "        to generalize and improves the interpretability of the model.\n",
    "        \n",
    "    Inputs: \n",
    "        threshold: any features with correlations greater than this value are removed\n",
    "    \n",
    "    Output: \n",
    "        dataframe that contains only the non-highly-collinear features\n",
    "    '''\n",
    "    \n",
    "    # Dont want to remove correlations between Energy Star Score\n",
    "    y = data['charges']\n",
    "    data.drop(columns = ['charges'],inplace=True)\n",
    "    \n",
    "    # Calculate the correlation matrix\n",
    "    corr_matrix = data.corr()\n",
    "    iters = range(len(corr_matrix.columns) - 1)\n",
    "    drop_cols = []\n",
    "\n",
    "    # Iterate through the correlation matrix and compare correlations\n",
    "    for i in iters:\n",
    "        for j in range(i):\n",
    "            item = corr_matrix.iloc[j:(j+1), (i+1):(i+2)]\n",
    "            col = item.columns\n",
    "            row = item.index\n",
    "            val = abs(item.values)\n",
    "            \n",
    "            # If correlation exceeds the threshold\n",
    "            if val >= threshold:\n",
    "                # Print the correlated features and the correlation value\n",
    "                print(col.values[0], \"|\", row.values[0], \"|\", round(val[0][0], 2))\n",
    "                drop_cols.append(col.values[0])\n",
    "\n",
    "    # Drop one of each pair of correlated columns\n",
    "    drops = set(drop_cols)\n",
    "    data = data.drop(columns = drops)\n",
    "    \n",
    "    # Add the score back in to the data\n",
    "    data['charges'] = y\n",
    "               \n",
    "    return data"
   ]
  },
  {
   "cell_type": "code",
   "execution_count": 87,
   "id": "2345c122",
   "metadata": {},
   "outputs": [],
   "source": [
    "# Remove the collinear features above a specified correlation coefficient\n",
    "data4 = remove_collinear_features(data4, 0.6)"
   ]
  },
  {
   "cell_type": "markdown",
   "id": "53045c44",
   "metadata": {},
   "source": [
    "### Scaling:applying LOF"
   ]
  },
  {
   "cell_type": "code",
   "execution_count": 88,
   "id": "8aa4e733",
   "metadata": {},
   "outputs": [],
   "source": [
    "from sklearn.preprocessing import StandardScaler\n",
    "sc = StandardScaler()\n",
    "data4 = pd.DataFrame(sc.fit_transform(data4), columns=data4.columns)"
   ]
  },
  {
   "cell_type": "code",
   "execution_count": 89,
   "id": "b219f93f",
   "metadata": {},
   "outputs": [
    {
     "data": {
      "text/plain": [
       "(1331, 8)"
      ]
     },
     "execution_count": 89,
     "metadata": {},
     "output_type": "execute_result"
    }
   ],
   "source": [
    "#separating target and predictors\n",
    "X=data4.drop('charges',axis=1)\n",
    "y=data4['charges']\n",
    "X.shape"
   ]
  },
  {
   "cell_type": "code",
   "execution_count": 90,
   "id": "a7534818",
   "metadata": {},
   "outputs": [],
   "source": [
    "from sklearn.neighbors import LocalOutlierFactor\n",
    "lof=LocalOutlierFactor(n_neighbors=5)\n",
    "res=lof.fit_predict(X)\n",
    "X_not_outlier=X[res !=-1]\n",
    "y_not_outlier=y[res !=-1]"
   ]
  },
  {
   "cell_type": "code",
   "execution_count": 91,
   "id": "21471fba",
   "metadata": {},
   "outputs": [
    {
     "data": {
      "text/plain": [
       "(1274, 9)"
      ]
     },
     "execution_count": 91,
     "metadata": {},
     "output_type": "execute_result"
    }
   ],
   "source": [
    "data_clean=pd.concat([X_not_outlier,y_not_outlier],axis=1)\n",
    "data_clean.shape"
   ]
  },
  {
   "cell_type": "code",
   "execution_count": 92,
   "id": "6417ee52",
   "metadata": {},
   "outputs": [],
   "source": [
    "data4=data_clean"
   ]
  },
  {
   "cell_type": "code",
   "execution_count": 93,
   "id": "be472b6a",
   "metadata": {},
   "outputs": [
    {
     "data": {
      "text/plain": [
       "Index(['age', 'sex', 'bmi', 'children', 'smoker_yes', 'region_northwest',\n",
       "       'region_southeast', 'region_southwest', 'charges'],\n",
       "      dtype='object')"
      ]
     },
     "execution_count": 93,
     "metadata": {},
     "output_type": "execute_result"
    }
   ],
   "source": [
    "data4.columns"
   ]
  },
  {
   "cell_type": "markdown",
   "id": "ae8d4a21",
   "metadata": {},
   "source": [
    "# Linear Regression Model(Regression)"
   ]
  },
  {
   "cell_type": "code",
   "execution_count": 95,
   "id": "e0edf518",
   "metadata": {},
   "outputs": [],
   "source": [
    "#separating target and predictors\n",
    "X=data4.drop('charges',axis=1)\n",
    "y=data4.charges"
   ]
  },
  {
   "cell_type": "code",
   "execution_count": 96,
   "id": "49c72d84",
   "metadata": {},
   "outputs": [
    {
     "name": "stdout",
     "output_type": "stream",
     "text": [
      "                            OLS Regression Results                            \n",
      "==============================================================================\n",
      "Dep. Variable:                charges   R-squared:                       0.769\n",
      "Model:                            OLS   Adj. R-squared:                  0.768\n",
      "Method:                 Least Squares   F-statistic:                     527.3\n",
      "Date:                Tue, 15 Feb 2022   Prob (F-statistic):               0.00\n",
      "Time:                        06:42:09   Log-Likelihood:                -869.12\n",
      "No. Observations:                1274   AIC:                             1756.\n",
      "Df Residuals:                    1265   BIC:                             1803.\n",
      "Df Model:                           8                                         \n",
      "Covariance Type:            nonrobust                                         \n",
      "====================================================================================\n",
      "                       coef    std err          t      P>|t|      [0.025      0.975]\n",
      "------------------------------------------------------------------------------------\n",
      "const                0.0022      0.013      0.164      0.869      -0.024       0.029\n",
      "age                  0.5321      0.014     38.897      0.000       0.505       0.559\n",
      "sex                  0.0455      0.014      3.357      0.001       0.019       0.072\n",
      "bmi                  0.0966      0.015      6.474      0.000       0.067       0.126\n",
      "children             0.1408      0.014     10.104      0.000       0.113       0.168\n",
      "smoker_yes           0.6744      0.014     49.864      0.000       0.648       0.701\n",
      "region_northwest    -0.0288      0.017     -1.739      0.082      -0.061       0.004\n",
      "region_southeast    -0.0738      0.017     -4.285      0.000      -0.108      -0.040\n",
      "region_southwest    -0.0540      0.017     -3.242      0.001      -0.087      -0.021\n",
      "==============================================================================\n",
      "Omnibus:                      446.949   Durbin-Watson:                   2.022\n",
      "Prob(Omnibus):                  0.000   Jarque-Bera (JB):             1600.318\n",
      "Skew:                           1.701   Prob(JB):                         0.00\n",
      "Kurtosis:                       7.309   Cond. No.                         2.19\n",
      "==============================================================================\n",
      "\n",
      "Notes:\n",
      "[1] Standard Errors assume that the covariance matrix of the errors is correctly specified.\n",
      "region_northwest\n",
      "                            OLS Regression Results                            \n",
      "==============================================================================\n",
      "Dep. Variable:                charges   R-squared:                       0.769\n",
      "Model:                            OLS   Adj. R-squared:                  0.767\n",
      "Method:                 Least Squares   F-statistic:                     601.2\n",
      "Date:                Tue, 15 Feb 2022   Prob (F-statistic):               0.00\n",
      "Time:                        06:42:09   Log-Likelihood:                -870.64\n",
      "No. Observations:                1274   AIC:                             1757.\n",
      "Df Residuals:                    1266   BIC:                             1798.\n",
      "Df Model:                           7                                         \n",
      "Covariance Type:            nonrobust                                         \n",
      "====================================================================================\n",
      "                       coef    std err          t      P>|t|      [0.025      0.975]\n",
      "------------------------------------------------------------------------------------\n",
      "const                0.0024      0.013      0.175      0.861      -0.024       0.029\n",
      "age                  0.5325      0.014     38.899      0.000       0.506       0.559\n",
      "sex                  0.0454      0.014      3.351      0.001       0.019       0.072\n",
      "bmi                  0.0967      0.015      6.475      0.000       0.067       0.126\n",
      "children             0.1402      0.014     10.055      0.000       0.113       0.168\n",
      "smoker_yes           0.6748      0.014     49.869      0.000       0.648       0.701\n",
      "region_southeast    -0.0590      0.015     -3.935      0.000      -0.088      -0.030\n",
      "region_southwest    -0.0397      0.015     -2.738      0.006      -0.068      -0.011\n",
      "==============================================================================\n",
      "Omnibus:                      444.937   Durbin-Watson:                   2.025\n",
      "Prob(Omnibus):                  0.000   Jarque-Bera (JB):             1582.344\n",
      "Skew:                           1.696   Prob(JB):                         0.00\n",
      "Kurtosis:                       7.278   Cond. No.                         1.64\n",
      "==============================================================================\n",
      "\n",
      "Notes:\n",
      "[1] Standard Errors assume that the covariance matrix of the errors is correctly specified.\n"
     ]
    }
   ],
   "source": [
    "\n",
    "#Linear regression model using OLS\n",
    "import statsmodels.api as sm\n",
    "X1 = sm.add_constant(X)\n",
    "ols = sm.OLS(y,X1)\n",
    "lr = ols.fit()\n",
    "\n",
    "print(lr.summary())\n",
    "\n",
    "p=lr.pvalues\n",
    "pvalue=max(lr.pvalues[1:len(lr.pvalues)])\n",
    "\n",
    "while (pvalue>=.05):\n",
    "    loc=0\n",
    "    for i in lr.pvalues:\n",
    "        if (i==pvalue):\n",
    "          feature=lr.pvalues.index[loc] \n",
    "          print(feature)\n",
    "          break\n",
    "        loc+=1\n",
    "    X=X.drop(feature,axis=1)\n",
    "    X1 = sm.add_constant(X)\n",
    "    ols = sm.OLS(y,X1)\n",
    "    lr = ols.fit()\n",
    "    pvalue=max(lr.pvalues[1:len(lr.pvalues)])\n",
    "    \n",
    "print(lr.summary())"
   ]
  },
  {
   "cell_type": "markdown",
   "id": "9774d78b",
   "metadata": {},
   "source": [
    "### Separating test and train sets"
   ]
  },
  {
   "cell_type": "code",
   "execution_count": 97,
   "id": "f9331cab",
   "metadata": {},
   "outputs": [],
   "source": [
    "#separating test and train\n",
    "from sklearn.model_selection import train_test_split\n",
    "X_train, X_test, y_train, y_test = train_test_split(X,y,random_state=0)"
   ]
  },
  {
   "cell_type": "code",
   "execution_count": 98,
   "id": "a82dbb4c",
   "metadata": {},
   "outputs": [],
   "source": [
    "\n",
    "from sklearn.linear_model import LinearRegression"
   ]
  },
  {
   "cell_type": "code",
   "execution_count": 99,
   "id": "e0d44b0d",
   "metadata": {},
   "outputs": [
    {
     "data": {
      "text/plain": [
       "LinearRegression()"
      ]
     },
     "execution_count": 99,
     "metadata": {},
     "output_type": "execute_result"
    }
   ],
   "source": [
    "#creating LinearRegression Object\n",
    "model = LinearRegression()\n",
    "#Training the Data Model\n",
    "model.fit(X_train,y_train)"
   ]
  },
  {
   "cell_type": "code",
   "execution_count": 100,
   "id": "319103e1",
   "metadata": {},
   "outputs": [
    {
     "name": "stdout",
     "output_type": "stream",
     "text": [
      "0.0061746588112015005\n",
      "coeff=                   Coefficient\n",
      "age                      0.53\n",
      "sex                      0.05\n",
      "bmi                      0.09\n",
      "children                 0.15\n",
      "smoker_yes               0.67\n",
      "region_southeast        -0.05\n",
      "region_southwest        -0.04\n"
     ]
    },
    {
     "data": {
      "text/plain": [
       "Text(0, 0.5, 'y_pred')"
      ]
     },
     "execution_count": 100,
     "metadata": {},
     "output_type": "execute_result"
    },
    {
     "data": {
      "image/png": "[encoded data removed]",
      "text/plain": [
       "<Figure size 432x288 with 1 Axes>"
      ]
     },
     "metadata": {},
     "output_type": "display_data"
    }
   ],
   "source": [
    "\"\"\"Model Evaluation\"\"\"\n",
    "#Displaying the Intercept\n",
    "print(model.intercept_)\n",
    "#Coefficient\n",
    "coeff_data = pd.DataFrame(model.coef_, X.columns, columns=['Coefficient'])\n",
    "print('coeff=',coeff_data)\n",
    "\n",
    "y_pred = model.predict(X_test)\n",
    "\n",
    "\n",
    "plt.scatter(y_test, y_pred, edgecolor='black')\n",
    "plt.xlabel(\"y_test\")\n",
    "plt.ylabel(\"y_pred\")"
   ]
  },
  {
   "cell_type": "code",
   "execution_count": 101,
   "id": "8d0b59e9",
   "metadata": {},
   "outputs": [
    {
     "data": {
      "text/plain": [
       "count   319.00\n",
       "mean      0.32\n",
       "std       0.38\n",
       "min       0.00\n",
       "25%       0.07\n",
       "50%       0.17\n",
       "75%       0.45\n",
       "max       2.34\n",
       "Name: charges, dtype: float64"
      ]
     },
     "execution_count": 101,
     "metadata": {},
     "output_type": "execute_result"
    }
   ],
   "source": [
    "(abs(y_test-y_pred)).describe()"
   ]
  },
  {
   "cell_type": "code",
   "execution_count": 102,
   "id": "45920834",
   "metadata": {},
   "outputs": [
    {
     "name": "stdout",
     "output_type": "stream",
     "text": [
      "MAE: 0.31549146288661944\n",
      "MSE: 0.2415936992330162\n",
      "RMSE: 0.49152181969167574\n"
     ]
    }
   ],
   "source": [
    "\"\"\"Calculating the Mean Absolute Error, Mean Squared Error, and the Root Mean Squared Error \n",
    "MAE is the easiest to understand, because it's the average error.\n",
    "MSE is more popular than MAE, because MSE \"punishes\" larger errors, which tends to be useful in the real world.\n",
    "RMSE is even more popular than MSE, because RMSE is interpretable in the \"y\" units.\n",
    "All of these are loss functions, because we want to minimize them\"\"\"\n",
    "\n",
    "from sklearn import metrics\n",
    "print('MAE:', metrics.mean_absolute_error(y_test, y_pred))\n",
    "print('MSE:', metrics.mean_squared_error(y_test, y_pred))\n",
    "print('RMSE:', np.sqrt(metrics.mean_squared_error(y_test,y_pred)))"
   ]
  },
  {
   "cell_type": "code",
   "execution_count": 103,
   "id": "695031f9",
   "metadata": {},
   "outputs": [
    {
     "name": "stdout",
     "output_type": "stream",
     "text": [
      "0.7668617887109838\n",
      "0.7690525867966889\n"
     ]
    }
   ],
   "source": [
    "from sklearn.metrics import mean_squared_error, r2_score\n",
    "print(r2_score(y_test,y_pred))\n",
    "print(r2_score(y_train,model.predict(X_train)))"
   ]
  },
  {
   "cell_type": "markdown",
   "id": "8d6c53b6",
   "metadata": {},
   "source": [
    "R2 shows how well terms (data points) fit a curve or line. Adjusted R2 also indicates how well\n",
    "terms fit a curve or line, but adjusts for the number of terms in a model. If you add more and more \n",
    "useless variables to a model, adjusted r-squared will decrease. If you add more useful variables,\n",
    "adjusted r-squared will increase. Adjusted R2 will always be less than or equal to R2."
   ]
  },
  {
   "cell_type": "code",
   "execution_count": 104,
   "id": "88267623",
   "metadata": {},
   "outputs": [
    {
     "name": "stdout",
     "output_type": "stream",
     "text": [
      "Adjusted_R2=  0.761614304855604\n"
     ]
    }
   ],
   "source": [
    "print('Adjusted_R2= ',1 - (((len(X_test.index) - 1) / (len(X_test.index) - len(X_test.columns) - 1)) * (1 - r2_score(y_test,y_pred))))"
   ]
  },
  {
   "cell_type": "code",
   "execution_count": 105,
   "id": "88bc25e8",
   "metadata": {},
   "outputs": [
    {
     "data": {
      "text/plain": [
       "0.7636972934759783"
      ]
     },
     "execution_count": 105,
     "metadata": {},
     "output_type": "execute_result"
    }
   ],
   "source": [
    "\"\"\"K-FOLD CROSSVALIDATION\"\"\"\n",
    "from sklearn.model_selection import cross_val_score\n",
    "clr=LinearRegression()\n",
    "cross_val_score(clr,X,y,cv=4)\n",
    "cross_val_score(clr,X,y,cv=4).mean()"
   ]
  },
  {
   "cell_type": "code",
   "execution_count": 106,
   "id": "365b7e9a",
   "metadata": {},
   "outputs": [],
   "source": [
    "LR_score=cross_val_score(clr,X,y,cv=4).mean()"
   ]
  },
  {
   "cell_type": "markdown",
   "id": "5ba5eb10",
   "metadata": {},
   "source": [
    "# KNN Regression"
   ]
  },
  {
   "cell_type": "code",
   "execution_count": 107,
   "id": "8b9e1956",
   "metadata": {},
   "outputs": [
    {
     "data": {
      "text/plain": [
       "age                 0\n",
       "sex                 0\n",
       "bmi                 0\n",
       "children            0\n",
       "smoker_yes          0\n",
       "region_southeast    0\n",
       "region_southwest    0\n",
       "dtype: int64"
      ]
     },
     "execution_count": 107,
     "metadata": {},
     "output_type": "execute_result"
    }
   ],
   "source": [
    "X.isnull().sum()"
   ]
  },
  {
   "cell_type": "code",
   "execution_count": 108,
   "id": "13cb07f9",
   "metadata": {},
   "outputs": [],
   "source": [
    "#extract feature set and target separately\n",
    "X=data4.drop('charges',axis=1)\n",
    "y=data4.charges"
   ]
  },
  {
   "cell_type": "code",
   "execution_count": 109,
   "id": "6a9af6b4",
   "metadata": {},
   "outputs": [],
   "source": [
    "#splitting dataset into training and test-set\n",
    "from sklearn.model_selection import train_test_split\n",
    "X_train, X_test, y_train, y_test = train_test_split(X,y,random_state=0)"
   ]
  },
  {
   "cell_type": "code",
   "execution_count": 110,
   "id": "ea3c042b",
   "metadata": {},
   "outputs": [],
   "source": [
    "#import model\n",
    "from sklearn.neighbors import KNeighborsRegressor\n",
    "model = KNeighborsRegressor()# create a instanse"
   ]
  },
  {
   "cell_type": "code",
   "execution_count": 111,
   "id": "bb7da988",
   "metadata": {},
   "outputs": [
    {
     "data": {
      "text/plain": [
       "KNeighborsRegressor()"
      ]
     },
     "execution_count": 111,
     "metadata": {},
     "output_type": "execute_result"
    }
   ],
   "source": [
    "#training\n",
    "model.fit(X_train,y_train)"
   ]
  },
  {
   "cell_type": "code",
   "execution_count": 112,
   "id": "bb04a734",
   "metadata": {},
   "outputs": [],
   "source": [
    "y_pred = model.predict(X_test)"
   ]
  },
  {
   "cell_type": "code",
   "execution_count": 113,
   "id": "a6431d61",
   "metadata": {},
   "outputs": [
    {
     "name": "stdout",
     "output_type": "stream",
     "text": [
      "MAE: 0.29413530744640337\n",
      "MSE: 0.23439003367050348\n",
      "RMSE: 0.48413844473508144\n"
     ]
    }
   ],
   "source": [
    "print('MAE:', metrics.mean_absolute_error(y_test, y_pred))\n",
    "print('MSE:', metrics.mean_squared_error(y_test, y_pred))\n",
    "print('RMSE:', np.sqrt(metrics.mean_squared_error(y_test,y_pred)))"
   ]
  },
  {
   "cell_type": "code",
   "execution_count": 114,
   "id": "ad70d193",
   "metadata": {},
   "outputs": [
    {
     "name": "stdout",
     "output_type": "stream",
     "text": [
      "0.7738133346714133\n",
      "0.860972968476618\n"
     ]
    }
   ],
   "source": [
    "\n",
    "print(r2_score(y_test,y_pred))\n",
    "print(r2_score(y_train,model.predict(X_train)))"
   ]
  },
  {
   "cell_type": "code",
   "execution_count": 115,
   "id": "2ee06f44",
   "metadata": {},
   "outputs": [
    {
     "name": "stdout",
     "output_type": "stream",
     "text": [
      "[0.83578534 0.74655942 0.83690121 0.75807367]\n",
      "0.7943299093890643\n"
     ]
    }
   ],
   "source": [
    "\n",
    "\"\"\"K-FOLD CROSSVALIDATION\"\"\"\n",
    "clr=KNeighborsRegressor()\n",
    "print(cross_val_score(clr,X,y,cv=4))\n",
    "print(cross_val_score(clr,X,y,cv=4).mean())"
   ]
  },
  {
   "cell_type": "markdown",
   "id": "000255d5",
   "metadata": {},
   "source": [
    "### Tunning:"
   ]
  },
  {
   "cell_type": "code",
   "execution_count": 116,
   "id": "4b482cfb",
   "metadata": {},
   "outputs": [],
   "source": [
    "scores = []\n",
    "for i in range(1,30):\n",
    "    clf3 = KNeighborsRegressor(n_neighbors=i)\n",
    "    scores.append(cross_val_score(clf3,X,y,cv=4).mean())"
   ]
  },
  {
   "cell_type": "code",
   "execution_count": 117,
   "id": "91adfde2",
   "metadata": {},
   "outputs": [
    {
     "data": {
      "text/plain": [
       "Text(0.5, 1.0, 'Finding optimal K')"
      ]
     },
     "execution_count": 117,
     "metadata": {},
     "output_type": "execute_result"
    },
    {
     "data": {
      "image/png": "[encoded data removed]",
      "text/plain": [
       "<Figure size 432x288 with 1 Axes>"
      ]
     },
     "metadata": {},
     "output_type": "display_data"
    }
   ],
   "source": [
    "import matplotlib.pyplot as plt\n",
    "plt.plot(range(1,30),scores)\n",
    "plt.xlabel(\"K\")\n",
    "plt.ylabel(\"Accuracy\")\n",
    "plt.title(\"Finding optimal K\")"
   ]
  },
  {
   "cell_type": "code",
   "execution_count": 118,
   "id": "6867d774",
   "metadata": {},
   "outputs": [
    {
     "data": {
      "text/plain": [
       "0.80306593071373"
      ]
     },
     "execution_count": 118,
     "metadata": {},
     "output_type": "execute_result"
    }
   ],
   "source": [
    "max(scores)"
   ]
  },
  {
   "cell_type": "code",
   "execution_count": 119,
   "id": "45bb9405",
   "metadata": {},
   "outputs": [],
   "source": [
    "model = KNeighborsRegressor(n_neighbors=8)"
   ]
  },
  {
   "cell_type": "code",
   "execution_count": 120,
   "id": "fac4056e",
   "metadata": {},
   "outputs": [
    {
     "data": {
      "text/plain": [
       "KNeighborsRegressor(n_neighbors=8)"
      ]
     },
     "execution_count": 120,
     "metadata": {},
     "output_type": "execute_result"
    }
   ],
   "source": [
    "#training\n",
    "model.fit(X_train,y_train)"
   ]
  },
  {
   "cell_type": "code",
   "execution_count": 121,
   "id": "27ce214b",
   "metadata": {},
   "outputs": [],
   "source": [
    "y_pred = model.predict(X_test)"
   ]
  },
  {
   "cell_type": "code",
   "execution_count": 122,
   "id": "18ec4ece",
   "metadata": {},
   "outputs": [
    {
     "name": "stdout",
     "output_type": "stream",
     "text": [
      "MAE: 0.2891802821852275\n",
      "MSE: 0.21925638098129183\n",
      "RMSE: 0.4682482044613645\n"
     ]
    }
   ],
   "source": [
    "print('MAE:', metrics.mean_absolute_error(y_test, y_pred))\n",
    "print('MSE:', metrics.mean_squared_error(y_test, y_pred))\n",
    "print('RMSE:', np.sqrt(metrics.mean_squared_error(y_test,y_pred)))"
   ]
  },
  {
   "cell_type": "code",
   "execution_count": 123,
   "id": "89c00a61",
   "metadata": {},
   "outputs": [
    {
     "name": "stdout",
     "output_type": "stream",
     "text": [
      "0.7884173277781583\n",
      "0.849501974114452\n"
     ]
    }
   ],
   "source": [
    "print(r2_score(y_test,y_pred))\n",
    "print(r2_score(y_train,model.predict(X_train)))"
   ]
  },
  {
   "cell_type": "code",
   "execution_count": 124,
   "id": "8ac2022f",
   "metadata": {},
   "outputs": [
    {
     "name": "stdout",
     "output_type": "stream",
     "text": [
      "Adjusted_R2=  0.7829571297853366\n"
     ]
    }
   ],
   "source": [
    "print('Adjusted_R2= ',1 - (((len(X_test.index) - 1) / (len(X_test.index) - len(X_test.columns) - 1)) * (1 - r2_score(y_test,y_pred))))"
   ]
  },
  {
   "cell_type": "code",
   "execution_count": 125,
   "id": "b8fb986f",
   "metadata": {},
   "outputs": [
    {
     "name": "stdout",
     "output_type": "stream",
     "text": [
      "[0.84517246 0.75541729 0.84303993 0.76023965]\n",
      "0.8009673348717941\n"
     ]
    }
   ],
   "source": [
    "\"\"\"K-FOLD CROSSVALIDATION\"\"\"\n",
    "from sklearn.model_selection import cross_val_score\n",
    "clr=KNeighborsRegressor(n_neighbors=7)\n",
    "print(cross_val_score(clr,X,y,cv=4))\n",
    "print(cross_val_score(clr,X,y,cv=4).mean())"
   ]
  },
  {
   "cell_type": "code",
   "execution_count": 126,
   "id": "5179dd28",
   "metadata": {},
   "outputs": [],
   "source": [
    "KNN_score=cross_val_score(clr,X,y,cv=4).mean()"
   ]
  },
  {
   "cell_type": "markdown",
   "id": "80f1503c",
   "metadata": {},
   "source": [
    "## Model comparison"
   ]
  },
  {
   "cell_type": "code",
   "execution_count": 127,
   "id": "48c86610",
   "metadata": {},
   "outputs": [
    {
     "data": {
      "text/plain": [
       "Text(0.5, 1.0, 'Model Comparison on Score')"
      ]
     },
     "execution_count": 127,
     "metadata": {},
     "output_type": "execute_result"
    },
    {
     "data": {
      "image/png": "[encoded data removed]",
      "text/plain": [
       "<Figure size 432x288 with 1 Axes>"
      ]
     },
     "metadata": {},
     "output_type": "display_data"
    }
   ],
   "source": [
    "plt.style.use('fivethirtyeight')\n",
    "figsize=(8, 6)\n",
    "\n",
    "# Dataframe to hold the results\n",
    "model_comparison = pd.DataFrame({'model': ['Linear Regression','KNN Regression',\n",
    "                                           ],\n",
    "                                 'score': [LR_score,KNN_score\n",
    "                                          ]})\n",
    "\n",
    "# Horizontal bar chart \n",
    "model_comparison.sort_values('score', ascending = True).plot(x = 'model', y = 'score', kind = 'barh',\n",
    "                                                           color = 'green', edgecolor = 'black')\n",
    "\n",
    "# Plot formatting\n",
    "plt.ylabel(''); plt.yticks(size = 14); plt.xlabel('K-Fold Cross Validation'); plt.xticks(size = 14)\n",
    "plt.title('Model Comparison on Score', size = 20)"
   ]
  },
  {
   "cell_type": "code",
   "execution_count": null,
   "id": "5105d32f",
   "metadata": {},
   "outputs": [],
   "source": []
  }
 ],
 "metadata": {
  "kernelspec": {
   "display_name": "Python 3",
   "language": "python",
   "name": "python3"
  },
  "language_info": {
   "codemirror_mode": {
    "name": "ipython",
    "version": 3
   },
   "file_extension": ".py",
   "mimetype": "text/x-python",
   "name": "python",
   "nbconvert_exporter": "python",
   "pygments_lexer": "ipython3",
   "version": "3.8.8"
  }
 },
 "nbformat": 4,
 "nbformat_minor": 5
}
